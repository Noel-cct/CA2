{
 "cells": [
  {
   "cell_type": "code",
   "execution_count": 77,
   "id": "c607b30c",
   "metadata": {},
   "outputs": [],
   "source": [
    "##IMPORTING LIBRARIES\n",
    "import pandas as pd\n",
    "import statistics as stats\n",
    "import seaborn as sns #visualisation\n",
    "import numpy as np\n",
    "import matplotlib.pyplot as plt\n",
    "import statsmodels.api as sm\n",
    "from statsmodels.formula.api import ols\n",
    "from scipy import stats\n",
    "import scipy as scipy"
   ]
  },
  {
   "cell_type": "code",
   "execution_count": 3,
   "id": "f3040715",
   "metadata": {},
   "outputs": [],
   "source": [
    "df_ire = pd.read_excel('/Users/Noel/Documents/MSc_CA2/ireland-cattle-prices.xlsx')"
   ]
  },
  {
   "cell_type": "code",
   "execution_count": 4,
   "id": "5629f814",
   "metadata": {},
   "outputs": [],
   "source": [
    "df_GB = pd.read_excel('/Users/Noel/Documents/MSc_CA2/gt.-britain-cattle-prices.xlsx')"
   ]
  },
  {
   "cell_type": "code",
   "execution_count": 5,
   "id": "dc99d5e5",
   "metadata": {},
   "outputs": [],
   "source": [
    "df_NI = pd.read_excel('/Users/Noel/Documents/MSc_CA2/n.ireland-cattle-prices.xlsx')"
   ]
  },
  {
   "cell_type": "code",
   "execution_count": 6,
   "id": "b2283349",
   "metadata": {},
   "outputs": [
    {
     "data": {
      "text/html": [
       "<div>\n",
       "<style scoped>\n",
       "    .dataframe tbody tr th:only-of-type {\n",
       "        vertical-align: middle;\n",
       "    }\n",
       "\n",
       "    .dataframe tbody tr th {\n",
       "        vertical-align: top;\n",
       "    }\n",
       "\n",
       "    .dataframe thead th {\n",
       "        text-align: right;\n",
       "    }\n",
       "</style>\n",
       "<table border=\"1\" class=\"dataframe\">\n",
       "  <thead>\n",
       "    <tr style=\"text-align: right;\">\n",
       "      <th></th>\n",
       "      <th>Date</th>\n",
       "      <th>Bulls R3 (Ire)</th>\n",
       "      <th>Cows O2 (Ire)</th>\n",
       "      <th>Cows O3 (Ire)</th>\n",
       "      <th>Cows O4 (Ire)</th>\n",
       "      <th>Cows P2 (Ire)</th>\n",
       "      <th>Cows P3 (Ire)</th>\n",
       "      <th>Cows R2 (lre)</th>\n",
       "      <th>Cows R3 (Ire)</th>\n",
       "      <th>Cows R4 (Ire)</th>\n",
       "      <th>...</th>\n",
       "      <th>Steers R4 (Ire)</th>\n",
       "      <th>Steers U2 (Ire)</th>\n",
       "      <th>Steers U3 (Ire)</th>\n",
       "      <th>Steers U4 (Ire)</th>\n",
       "      <th>Young Bulls O2 (Ire)</th>\n",
       "      <th>Young Bulls O3 (Ire)</th>\n",
       "      <th>Young Bulls R2 (Ire)</th>\n",
       "      <th>Young Bulls R3 (Ire)</th>\n",
       "      <th>Young Bulls U2 (Ire)</th>\n",
       "      <th>Young Bulls U3 (Ire)</th>\n",
       "    </tr>\n",
       "  </thead>\n",
       "  <tbody>\n",
       "    <tr>\n",
       "      <th>0</th>\n",
       "      <td>2019-10-28</td>\n",
       "      <td>241.6</td>\n",
       "      <td>255.0</td>\n",
       "      <td>259.2</td>\n",
       "      <td>259.7</td>\n",
       "      <td>228.6</td>\n",
       "      <td>247.7</td>\n",
       "      <td>NaN</td>\n",
       "      <td>279.6</td>\n",
       "      <td>279.3</td>\n",
       "      <td>...</td>\n",
       "      <td>341.3</td>\n",
       "      <td>347.9</td>\n",
       "      <td>352.5</td>\n",
       "      <td>347.3</td>\n",
       "      <td>299.0</td>\n",
       "      <td>303.8</td>\n",
       "      <td>321.6</td>\n",
       "      <td>320.5</td>\n",
       "      <td>330.2</td>\n",
       "      <td>329.8</td>\n",
       "    </tr>\n",
       "    <tr>\n",
       "      <th>1</th>\n",
       "      <td>2019-10-14</td>\n",
       "      <td>239.9</td>\n",
       "      <td>264.6</td>\n",
       "      <td>268.3</td>\n",
       "      <td>268.5</td>\n",
       "      <td>235.1</td>\n",
       "      <td>256.0</td>\n",
       "      <td>NaN</td>\n",
       "      <td>288.9</td>\n",
       "      <td>288.0</td>\n",
       "      <td>...</td>\n",
       "      <td>342.1</td>\n",
       "      <td>350.7</td>\n",
       "      <td>353.7</td>\n",
       "      <td>349.1</td>\n",
       "      <td>300.9</td>\n",
       "      <td>305.3</td>\n",
       "      <td>323.7</td>\n",
       "      <td>322.3</td>\n",
       "      <td>332.8</td>\n",
       "      <td>332.3</td>\n",
       "    </tr>\n",
       "    <tr>\n",
       "      <th>2</th>\n",
       "      <td>2019-10-07</td>\n",
       "      <td>248.3</td>\n",
       "      <td>270.1</td>\n",
       "      <td>274.2</td>\n",
       "      <td>274.6</td>\n",
       "      <td>242.9</td>\n",
       "      <td>262.0</td>\n",
       "      <td>NaN</td>\n",
       "      <td>296.1</td>\n",
       "      <td>293.7</td>\n",
       "      <td>...</td>\n",
       "      <td>343.9</td>\n",
       "      <td>349.8</td>\n",
       "      <td>353.3</td>\n",
       "      <td>350.4</td>\n",
       "      <td>301.1</td>\n",
       "      <td>306.4</td>\n",
       "      <td>325.7</td>\n",
       "      <td>323.4</td>\n",
       "      <td>337.0</td>\n",
       "      <td>334.6</td>\n",
       "    </tr>\n",
       "    <tr>\n",
       "      <th>3</th>\n",
       "      <td>2019-09-30</td>\n",
       "      <td>253.0</td>\n",
       "      <td>277.9</td>\n",
       "      <td>279.9</td>\n",
       "      <td>278.4</td>\n",
       "      <td>252.7</td>\n",
       "      <td>267.1</td>\n",
       "      <td>NaN</td>\n",
       "      <td>298.4</td>\n",
       "      <td>297.1</td>\n",
       "      <td>...</td>\n",
       "      <td>344.3</td>\n",
       "      <td>351.7</td>\n",
       "      <td>356.2</td>\n",
       "      <td>354.0</td>\n",
       "      <td>305.6</td>\n",
       "      <td>309.9</td>\n",
       "      <td>327.5</td>\n",
       "      <td>327.7</td>\n",
       "      <td>336.7</td>\n",
       "      <td>337.1</td>\n",
       "    </tr>\n",
       "    <tr>\n",
       "      <th>4</th>\n",
       "      <td>2019-09-16</td>\n",
       "      <td>264.2</td>\n",
       "      <td>283.3</td>\n",
       "      <td>283.9</td>\n",
       "      <td>282.5</td>\n",
       "      <td>257.2</td>\n",
       "      <td>272.6</td>\n",
       "      <td>NaN</td>\n",
       "      <td>302.0</td>\n",
       "      <td>300.1</td>\n",
       "      <td>...</td>\n",
       "      <td>338.1</td>\n",
       "      <td>344.8</td>\n",
       "      <td>347.7</td>\n",
       "      <td>344.1</td>\n",
       "      <td>301.5</td>\n",
       "      <td>309.4</td>\n",
       "      <td>322.0</td>\n",
       "      <td>321.5</td>\n",
       "      <td>328.8</td>\n",
       "      <td>327.8</td>\n",
       "    </tr>\n",
       "  </tbody>\n",
       "</table>\n",
       "<p>5 rows × 31 columns</p>\n",
       "</div>"
      ],
      "text/plain": [
       "        Date  Bulls R3 (Ire)  Cows O2 (Ire)  Cows O3 (Ire)  Cows O4 (Ire)  \\\n",
       "0 2019-10-28           241.6          255.0          259.2          259.7   \n",
       "1 2019-10-14           239.9          264.6          268.3          268.5   \n",
       "2 2019-10-07           248.3          270.1          274.2          274.6   \n",
       "3 2019-09-30           253.0          277.9          279.9          278.4   \n",
       "4 2019-09-16           264.2          283.3          283.9          282.5   \n",
       "\n",
       "   Cows P2 (Ire)  Cows P3 (Ire)  Cows R2 (lre)  Cows R3 (Ire)  Cows R4 (Ire)  \\\n",
       "0          228.6          247.7            NaN          279.6          279.3   \n",
       "1          235.1          256.0            NaN          288.9          288.0   \n",
       "2          242.9          262.0            NaN          296.1          293.7   \n",
       "3          252.7          267.1            NaN          298.4          297.1   \n",
       "4          257.2          272.6            NaN          302.0          300.1   \n",
       "\n",
       "   ...  Steers R4 (Ire)  Steers U2 (Ire)  Steers U3 (Ire)  Steers U4 (Ire)  \\\n",
       "0  ...            341.3            347.9            352.5            347.3   \n",
       "1  ...            342.1            350.7            353.7            349.1   \n",
       "2  ...            343.9            349.8            353.3            350.4   \n",
       "3  ...            344.3            351.7            356.2            354.0   \n",
       "4  ...            338.1            344.8            347.7            344.1   \n",
       "\n",
       "   Young Bulls O2 (Ire)  Young Bulls O3 (Ire)  Young Bulls R2 (Ire)  \\\n",
       "0                 299.0                 303.8                 321.6   \n",
       "1                 300.9                 305.3                 323.7   \n",
       "2                 301.1                 306.4                 325.7   \n",
       "3                 305.6                 309.9                 327.5   \n",
       "4                 301.5                 309.4                 322.0   \n",
       "\n",
       "   Young Bulls R3 (Ire)  Young Bulls U2 (Ire)  Young Bulls U3 (Ire)  \n",
       "0                 320.5                 330.2                 329.8  \n",
       "1                 322.3                 332.8                 332.3  \n",
       "2                 323.4                 337.0                 334.6  \n",
       "3                 327.7                 336.7                 337.1  \n",
       "4                 321.5                 328.8                 327.8  \n",
       "\n",
       "[5 rows x 31 columns]"
      ]
     },
     "execution_count": 6,
     "metadata": {},
     "output_type": "execute_result"
    }
   ],
   "source": [
    "df_ire.head()"
   ]
  },
  {
   "cell_type": "code",
   "execution_count": 7,
   "id": "fec4419e",
   "metadata": {},
   "outputs": [
    {
     "data": {
      "text/html": [
       "<div>\n",
       "<style scoped>\n",
       "    .dataframe tbody tr th:only-of-type {\n",
       "        vertical-align: middle;\n",
       "    }\n",
       "\n",
       "    .dataframe tbody tr th {\n",
       "        vertical-align: top;\n",
       "    }\n",
       "\n",
       "    .dataframe thead th {\n",
       "        text-align: right;\n",
       "    }\n",
       "</style>\n",
       "<table border=\"1\" class=\"dataframe\">\n",
       "  <thead>\n",
       "    <tr style=\"text-align: right;\">\n",
       "      <th></th>\n",
       "      <th>Date</th>\n",
       "      <th>Bulls R3 (GB)</th>\n",
       "      <th>Cows O2 (GB)</th>\n",
       "      <th>Cows O3 (GB)</th>\n",
       "      <th>Cows O4 (GB)</th>\n",
       "      <th>Cows P2 (GB)</th>\n",
       "      <th>Cows P3 (GB)</th>\n",
       "      <th>Cows R2 (GB)</th>\n",
       "      <th>Cows R3 (GB)</th>\n",
       "      <th>Cows R4 (GB)</th>\n",
       "      <th>...</th>\n",
       "      <th>Steers R4 (GB)</th>\n",
       "      <th>Steers U2 (GB)</th>\n",
       "      <th>Steers U3 (GB)</th>\n",
       "      <th>Steers U4 (GB)</th>\n",
       "      <th>Young Bulls O2 (GB)</th>\n",
       "      <th>Young Bulls O3 (GB)</th>\n",
       "      <th>Young Bulls R2 (GB)</th>\n",
       "      <th>Young Bulls R3 (GB)</th>\n",
       "      <th>Young Bulls U2 (GB)</th>\n",
       "      <th>Young Bulls U3 (GB)</th>\n",
       "    </tr>\n",
       "  </thead>\n",
       "  <tbody>\n",
       "    <tr>\n",
       "      <th>0</th>\n",
       "      <td>2019-10-28</td>\n",
       "      <td>NaN</td>\n",
       "      <td>252.77</td>\n",
       "      <td>266.37</td>\n",
       "      <td>263.37</td>\n",
       "      <td>219.89</td>\n",
       "      <td>236.80</td>\n",
       "      <td>NaN</td>\n",
       "      <td>288.79</td>\n",
       "      <td>285.63</td>\n",
       "      <td>...</td>\n",
       "      <td>385.91</td>\n",
       "      <td>383.28</td>\n",
       "      <td>385.29</td>\n",
       "      <td>385.26</td>\n",
       "      <td>319.95</td>\n",
       "      <td>331.13</td>\n",
       "      <td>367.02</td>\n",
       "      <td>367.70</td>\n",
       "      <td>377.09</td>\n",
       "      <td>376.32</td>\n",
       "    </tr>\n",
       "    <tr>\n",
       "      <th>1</th>\n",
       "      <td>2019-10-14</td>\n",
       "      <td>NaN</td>\n",
       "      <td>256.21</td>\n",
       "      <td>271.56</td>\n",
       "      <td>269.63</td>\n",
       "      <td>224.17</td>\n",
       "      <td>241.91</td>\n",
       "      <td>NaN</td>\n",
       "      <td>295.12</td>\n",
       "      <td>290.06</td>\n",
       "      <td>...</td>\n",
       "      <td>382.44</td>\n",
       "      <td>376.88</td>\n",
       "      <td>380.92</td>\n",
       "      <td>380.53</td>\n",
       "      <td>320.19</td>\n",
       "      <td>333.11</td>\n",
       "      <td>358.54</td>\n",
       "      <td>361.61</td>\n",
       "      <td>367.22</td>\n",
       "      <td>368.08</td>\n",
       "    </tr>\n",
       "    <tr>\n",
       "      <th>2</th>\n",
       "      <td>2019-10-07</td>\n",
       "      <td>NaN</td>\n",
       "      <td>259.75</td>\n",
       "      <td>270.55</td>\n",
       "      <td>269.38</td>\n",
       "      <td>227.57</td>\n",
       "      <td>243.22</td>\n",
       "      <td>NaN</td>\n",
       "      <td>293.35</td>\n",
       "      <td>290.60</td>\n",
       "      <td>...</td>\n",
       "      <td>374.72</td>\n",
       "      <td>368.98</td>\n",
       "      <td>373.09</td>\n",
       "      <td>371.68</td>\n",
       "      <td>305.38</td>\n",
       "      <td>315.40</td>\n",
       "      <td>349.96</td>\n",
       "      <td>352.82</td>\n",
       "      <td>365.36</td>\n",
       "      <td>358.62</td>\n",
       "    </tr>\n",
       "    <tr>\n",
       "      <th>3</th>\n",
       "      <td>2019-09-30</td>\n",
       "      <td>NaN</td>\n",
       "      <td>265.76</td>\n",
       "      <td>277.86</td>\n",
       "      <td>275.99</td>\n",
       "      <td>228.87</td>\n",
       "      <td>245.73</td>\n",
       "      <td>NaN</td>\n",
       "      <td>299.64</td>\n",
       "      <td>295.03</td>\n",
       "      <td>...</td>\n",
       "      <td>374.68</td>\n",
       "      <td>369.29</td>\n",
       "      <td>373.44</td>\n",
       "      <td>372.25</td>\n",
       "      <td>314.47</td>\n",
       "      <td>318.96</td>\n",
       "      <td>349.43</td>\n",
       "      <td>352.10</td>\n",
       "      <td>364.10</td>\n",
       "      <td>359.26</td>\n",
       "    </tr>\n",
       "    <tr>\n",
       "      <th>4</th>\n",
       "      <td>2019-09-16</td>\n",
       "      <td>NaN</td>\n",
       "      <td>268.41</td>\n",
       "      <td>279.53</td>\n",
       "      <td>280.31</td>\n",
       "      <td>234.09</td>\n",
       "      <td>251.72</td>\n",
       "      <td>NaN</td>\n",
       "      <td>302.45</td>\n",
       "      <td>299.38</td>\n",
       "      <td>...</td>\n",
       "      <td>375.37</td>\n",
       "      <td>372.10</td>\n",
       "      <td>374.81</td>\n",
       "      <td>373.85</td>\n",
       "      <td>311.01</td>\n",
       "      <td>327.14</td>\n",
       "      <td>353.86</td>\n",
       "      <td>355.03</td>\n",
       "      <td>365.75</td>\n",
       "      <td>362.23</td>\n",
       "    </tr>\n",
       "  </tbody>\n",
       "</table>\n",
       "<p>5 rows × 31 columns</p>\n",
       "</div>"
      ],
      "text/plain": [
       "        Date  Bulls R3 (GB)  Cows O2 (GB)  Cows O3 (GB)  Cows O4 (GB)  \\\n",
       "0 2019-10-28            NaN        252.77        266.37        263.37   \n",
       "1 2019-10-14            NaN        256.21        271.56        269.63   \n",
       "2 2019-10-07            NaN        259.75        270.55        269.38   \n",
       "3 2019-09-30            NaN        265.76        277.86        275.99   \n",
       "4 2019-09-16            NaN        268.41        279.53        280.31   \n",
       "\n",
       "   Cows P2 (GB)  Cows P3 (GB)  Cows R2 (GB)  Cows R3 (GB)  Cows R4 (GB)  ...  \\\n",
       "0        219.89        236.80           NaN        288.79        285.63  ...   \n",
       "1        224.17        241.91           NaN        295.12        290.06  ...   \n",
       "2        227.57        243.22           NaN        293.35        290.60  ...   \n",
       "3        228.87        245.73           NaN        299.64        295.03  ...   \n",
       "4        234.09        251.72           NaN        302.45        299.38  ...   \n",
       "\n",
       "   Steers R4 (GB)  Steers U2 (GB)  Steers U3 (GB)  Steers U4 (GB)  \\\n",
       "0          385.91          383.28          385.29          385.26   \n",
       "1          382.44          376.88          380.92          380.53   \n",
       "2          374.72          368.98          373.09          371.68   \n",
       "3          374.68          369.29          373.44          372.25   \n",
       "4          375.37          372.10          374.81          373.85   \n",
       "\n",
       "   Young Bulls O2 (GB)  Young Bulls O3 (GB)  Young Bulls R2 (GB)  \\\n",
       "0               319.95               331.13               367.02   \n",
       "1               320.19               333.11               358.54   \n",
       "2               305.38               315.40               349.96   \n",
       "3               314.47               318.96               349.43   \n",
       "4               311.01               327.14               353.86   \n",
       "\n",
       "   Young Bulls R3 (GB)  Young Bulls U2 (GB)  Young Bulls U3 (GB)  \n",
       "0               367.70               377.09               376.32  \n",
       "1               361.61               367.22               368.08  \n",
       "2               352.82               365.36               358.62  \n",
       "3               352.10               364.10               359.26  \n",
       "4               355.03               365.75               362.23  \n",
       "\n",
       "[5 rows x 31 columns]"
      ]
     },
     "execution_count": 7,
     "metadata": {},
     "output_type": "execute_result"
    }
   ],
   "source": [
    "df_GB.head()"
   ]
  },
  {
   "cell_type": "code",
   "execution_count": 8,
   "id": "6dcc1a85",
   "metadata": {},
   "outputs": [
    {
     "data": {
      "text/html": [
       "<div>\n",
       "<style scoped>\n",
       "    .dataframe tbody tr th:only-of-type {\n",
       "        vertical-align: middle;\n",
       "    }\n",
       "\n",
       "    .dataframe tbody tr th {\n",
       "        vertical-align: top;\n",
       "    }\n",
       "\n",
       "    .dataframe thead th {\n",
       "        text-align: right;\n",
       "    }\n",
       "</style>\n",
       "<table border=\"1\" class=\"dataframe\">\n",
       "  <thead>\n",
       "    <tr style=\"text-align: right;\">\n",
       "      <th></th>\n",
       "      <th>Date</th>\n",
       "      <th>Bulls R3 (NI)</th>\n",
       "      <th>Cows O2 (NI)</th>\n",
       "      <th>Cows O3 (NI)</th>\n",
       "      <th>Cows O4 (NI)</th>\n",
       "      <th>Cows P2 (NI)</th>\n",
       "      <th>Cows P3 (NI)</th>\n",
       "      <th>Cows R2 (NI)</th>\n",
       "      <th>Cows R3 (NI)</th>\n",
       "      <th>Cows R4 (NI)</th>\n",
       "      <th>...</th>\n",
       "      <th>Steers R4 (NI)</th>\n",
       "      <th>Steers U2 (NI)</th>\n",
       "      <th>Steers U3 (NI)</th>\n",
       "      <th>Steers U4 (NI)</th>\n",
       "      <th>Young Bulls O2 (NI)</th>\n",
       "      <th>Young Bulls O3 (NI)</th>\n",
       "      <th>Young Bulls R2 (NI)</th>\n",
       "      <th>Young Bulls R3 (NI)</th>\n",
       "      <th>Young Bulls U2 (NI)</th>\n",
       "      <th>Young Bulls U3 (NI)</th>\n",
       "    </tr>\n",
       "  </thead>\n",
       "  <tbody>\n",
       "    <tr>\n",
       "      <th>0</th>\n",
       "      <td>2019-10-28</td>\n",
       "      <td>NaN</td>\n",
       "      <td>281.17</td>\n",
       "      <td>287.40</td>\n",
       "      <td>291.62</td>\n",
       "      <td>244.74</td>\n",
       "      <td>262.73</td>\n",
       "      <td>NaN</td>\n",
       "      <td>310.58</td>\n",
       "      <td>309.34</td>\n",
       "      <td>...</td>\n",
       "      <td>376.43</td>\n",
       "      <td>370.43</td>\n",
       "      <td>371.74</td>\n",
       "      <td>370.12</td>\n",
       "      <td>337.37</td>\n",
       "      <td>345.89</td>\n",
       "      <td>354.79</td>\n",
       "      <td>360.64</td>\n",
       "      <td>359.13</td>\n",
       "      <td>358.31</td>\n",
       "    </tr>\n",
       "    <tr>\n",
       "      <th>1</th>\n",
       "      <td>2019-10-14</td>\n",
       "      <td>NaN</td>\n",
       "      <td>280.32</td>\n",
       "      <td>283.92</td>\n",
       "      <td>287.52</td>\n",
       "      <td>245.51</td>\n",
       "      <td>263.74</td>\n",
       "      <td>NaN</td>\n",
       "      <td>307.67</td>\n",
       "      <td>304.68</td>\n",
       "      <td>...</td>\n",
       "      <td>365.48</td>\n",
       "      <td>367.34</td>\n",
       "      <td>367.62</td>\n",
       "      <td>358.68</td>\n",
       "      <td>329.29</td>\n",
       "      <td>333.71</td>\n",
       "      <td>353.09</td>\n",
       "      <td>356.86</td>\n",
       "      <td>353.88</td>\n",
       "      <td>361.26</td>\n",
       "    </tr>\n",
       "    <tr>\n",
       "      <th>2</th>\n",
       "      <td>2019-10-07</td>\n",
       "      <td>NaN</td>\n",
       "      <td>270.94</td>\n",
       "      <td>279.31</td>\n",
       "      <td>280.89</td>\n",
       "      <td>240.13</td>\n",
       "      <td>256.85</td>\n",
       "      <td>NaN</td>\n",
       "      <td>300.71</td>\n",
       "      <td>301.58</td>\n",
       "      <td>...</td>\n",
       "      <td>359.08</td>\n",
       "      <td>356.23</td>\n",
       "      <td>359.15</td>\n",
       "      <td>354.70</td>\n",
       "      <td>321.27</td>\n",
       "      <td>329.39</td>\n",
       "      <td>347.95</td>\n",
       "      <td>352.07</td>\n",
       "      <td>348.90</td>\n",
       "      <td>351.14</td>\n",
       "    </tr>\n",
       "    <tr>\n",
       "      <th>3</th>\n",
       "      <td>2019-09-30</td>\n",
       "      <td>NaN</td>\n",
       "      <td>276.37</td>\n",
       "      <td>280.91</td>\n",
       "      <td>283.62</td>\n",
       "      <td>242.76</td>\n",
       "      <td>258.08</td>\n",
       "      <td>NaN</td>\n",
       "      <td>303.12</td>\n",
       "      <td>301.85</td>\n",
       "      <td>...</td>\n",
       "      <td>361.77</td>\n",
       "      <td>359.17</td>\n",
       "      <td>360.16</td>\n",
       "      <td>353.60</td>\n",
       "      <td>324.38</td>\n",
       "      <td>332.57</td>\n",
       "      <td>344.37</td>\n",
       "      <td>345.92</td>\n",
       "      <td>349.15</td>\n",
       "      <td>350.59</td>\n",
       "    </tr>\n",
       "    <tr>\n",
       "      <th>4</th>\n",
       "      <td>2019-09-16</td>\n",
       "      <td>NaN</td>\n",
       "      <td>271.46</td>\n",
       "      <td>281.83</td>\n",
       "      <td>285.10</td>\n",
       "      <td>240.83</td>\n",
       "      <td>260.85</td>\n",
       "      <td>NaN</td>\n",
       "      <td>302.02</td>\n",
       "      <td>301.51</td>\n",
       "      <td>...</td>\n",
       "      <td>357.45</td>\n",
       "      <td>358.83</td>\n",
       "      <td>361.05</td>\n",
       "      <td>357.50</td>\n",
       "      <td>325.69</td>\n",
       "      <td>331.77</td>\n",
       "      <td>347.26</td>\n",
       "      <td>359.39</td>\n",
       "      <td>352.49</td>\n",
       "      <td>356.83</td>\n",
       "    </tr>\n",
       "  </tbody>\n",
       "</table>\n",
       "<p>5 rows × 31 columns</p>\n",
       "</div>"
      ],
      "text/plain": [
       "        Date  Bulls R3 (NI)  Cows O2 (NI)  Cows O3 (NI)  Cows O4 (NI)  \\\n",
       "0 2019-10-28            NaN        281.17        287.40        291.62   \n",
       "1 2019-10-14            NaN        280.32        283.92        287.52   \n",
       "2 2019-10-07            NaN        270.94        279.31        280.89   \n",
       "3 2019-09-30            NaN        276.37        280.91        283.62   \n",
       "4 2019-09-16            NaN        271.46        281.83        285.10   \n",
       "\n",
       "   Cows P2 (NI)  Cows P3 (NI)  Cows R2 (NI)  Cows R3 (NI)  Cows R4 (NI)  ...  \\\n",
       "0        244.74        262.73           NaN        310.58        309.34  ...   \n",
       "1        245.51        263.74           NaN        307.67        304.68  ...   \n",
       "2        240.13        256.85           NaN        300.71        301.58  ...   \n",
       "3        242.76        258.08           NaN        303.12        301.85  ...   \n",
       "4        240.83        260.85           NaN        302.02        301.51  ...   \n",
       "\n",
       "   Steers R4 (NI)  Steers U2 (NI)  Steers U3 (NI)  Steers U4 (NI)  \\\n",
       "0          376.43          370.43          371.74          370.12   \n",
       "1          365.48          367.34          367.62          358.68   \n",
       "2          359.08          356.23          359.15          354.70   \n",
       "3          361.77          359.17          360.16          353.60   \n",
       "4          357.45          358.83          361.05          357.50   \n",
       "\n",
       "   Young Bulls O2 (NI)  Young Bulls O3 (NI)  Young Bulls R2 (NI)  \\\n",
       "0               337.37               345.89               354.79   \n",
       "1               329.29               333.71               353.09   \n",
       "2               321.27               329.39               347.95   \n",
       "3               324.38               332.57               344.37   \n",
       "4               325.69               331.77               347.26   \n",
       "\n",
       "   Young Bulls R3 (NI)  Young Bulls U2 (NI)  Young Bulls U3 (NI)  \n",
       "0               360.64               359.13               358.31  \n",
       "1               356.86               353.88               361.26  \n",
       "2               352.07               348.90               351.14  \n",
       "3               345.92               349.15               350.59  \n",
       "4               359.39               352.49               356.83  \n",
       "\n",
       "[5 rows x 31 columns]"
      ]
     },
     "execution_count": 8,
     "metadata": {},
     "output_type": "execute_result"
    }
   ],
   "source": [
    "df_NI.head()"
   ]
  },
  {
   "cell_type": "code",
   "execution_count": 9,
   "id": "f41e8fa6",
   "metadata": {},
   "outputs": [
    {
     "data": {
      "text/plain": [
       "(250, 31)"
      ]
     },
     "execution_count": 9,
     "metadata": {},
     "output_type": "execute_result"
    }
   ],
   "source": [
    "df_ire.shape"
   ]
  },
  {
   "cell_type": "code",
   "execution_count": 10,
   "id": "4b93328d",
   "metadata": {},
   "outputs": [
    {
     "data": {
      "text/plain": [
       "(250, 31)"
      ]
     },
     "execution_count": 10,
     "metadata": {},
     "output_type": "execute_result"
    }
   ],
   "source": [
    "df_GB.shape"
   ]
  },
  {
   "cell_type": "code",
   "execution_count": 11,
   "id": "b9abb836",
   "metadata": {},
   "outputs": [
    {
     "data": {
      "text/plain": [
       "(250, 31)"
      ]
     },
     "execution_count": 11,
     "metadata": {},
     "output_type": "execute_result"
    }
   ],
   "source": [
    "df_NI.shape"
   ]
  },
  {
   "cell_type": "code",
   "execution_count": 12,
   "id": "dd8538b6",
   "metadata": {},
   "outputs": [
    {
     "name": "stdout",
     "output_type": "stream",
     "text": [
      "Date                      0\n",
      "Bulls R3 (Ire)            0\n",
      "Cows O2 (Ire)             0\n",
      "Cows O3 (Ire)             0\n",
      "Cows O4 (Ire)             0\n",
      "Cows P2 (Ire)             0\n",
      "Cows P3 (Ire)             0\n",
      "Cows R2 (lre)           248\n",
      "Cows R3 (Ire)             0\n",
      "Cows R4 (Ire)             0\n",
      "Heifers O2 (Ire)          1\n",
      "Heifers O3 (Ire)          1\n",
      "Heifers O4 (Ire)          0\n",
      "Heifers R2 (Ire)          1\n",
      "Heifers R3 (Ire)          1\n",
      "Heifers R4 (Ire)          1\n",
      "Heifers U2 (Ire)          1\n",
      "Heifers U3 (Ire)          1\n",
      "Steers O3 (Ire)           2\n",
      "Steers O4 (Ire)           0\n",
      "Steers R3 (Ire)           0\n",
      "Steers R4 (Ire)           0\n",
      "Steers U2 (Ire)           0\n",
      "Steers U3 (Ire)           0\n",
      "Steers U4 (Ire)           0\n",
      "Young Bulls O2 (Ire)      0\n",
      "Young Bulls O3 (Ire)      0\n",
      "Young Bulls R2 (Ire)      0\n",
      "Young Bulls R3 (Ire)      0\n",
      "Young Bulls U2 (Ire)      1\n",
      "Young Bulls U3 (Ire)      0\n",
      "dtype: int64\n"
     ]
    }
   ],
   "source": [
    "print(df_ire.isnull().sum())"
   ]
  },
  {
   "cell_type": "code",
   "execution_count": 13,
   "id": "7ed20558",
   "metadata": {},
   "outputs": [
    {
     "name": "stdout",
     "output_type": "stream",
     "text": [
      "Date                     0\n",
      "Bulls R3 (GB)          250\n",
      "Cows O2 (GB)             0\n",
      "Cows O3 (GB)             0\n",
      "Cows O4 (GB)             0\n",
      "Cows P2 (GB)             1\n",
      "Cows P3 (GB)             0\n",
      "Cows R2 (GB)           128\n",
      "Cows R3 (GB)             1\n",
      "Cows R4 (GB)             0\n",
      "Heifers O2 (GB)          0\n",
      "Heifers O3 (GB)          1\n",
      "Heifers O4 (GB)          0\n",
      "Heifers R2 (GB)          0\n",
      "Heifers R3 (GB)          0\n",
      "Heifers R4 (GB)          0\n",
      "Heifers U2 (GB)          2\n",
      "Heifers U3 (GB)          0\n",
      "Steers O3 (GB)           0\n",
      "Steers O4 (GB)           1\n",
      "Steers R3 (GB)           0\n",
      "Steers R4 (GB)           0\n",
      "Steers U2 (GB)           1\n",
      "Steers U3 (GB)           0\n",
      "Steers U4 (GB)           0\n",
      "Young Bulls O2 (GB)      1\n",
      "Young Bulls O3 (GB)      1\n",
      "Young Bulls R2 (GB)      1\n",
      "Young Bulls R3 (GB)      0\n",
      "Young Bulls U2 (GB)      1\n",
      "Young Bulls U3 (GB)      1\n",
      "dtype: int64\n"
     ]
    }
   ],
   "source": [
    "print(df_GB.isnull().sum())"
   ]
  },
  {
   "cell_type": "code",
   "execution_count": 14,
   "id": "8b7b9eb3",
   "metadata": {},
   "outputs": [
    {
     "name": "stdout",
     "output_type": "stream",
     "text": [
      "Date                     0\n",
      "Bulls R3 (NI)          250\n",
      "Cows O2 (NI)             0\n",
      "Cows O3 (NI)             0\n",
      "Cows O4 (NI)             0\n",
      "Cows P2 (NI)             1\n",
      "Cows P3 (NI)             0\n",
      "Cows R2 (NI)           245\n",
      "Cows R3 (NI)             0\n",
      "Cows R4 (NI)             0\n",
      "Heifers O2 (NI)          0\n",
      "Heifers O3 (NI)          1\n",
      "Heifers O4 (NI)          0\n",
      "Heifers R2 (NI)          0\n",
      "Heifers R3 (NI)          0\n",
      "Heifers R4 (NI)          0\n",
      "Heifers U2 (NI)          2\n",
      "Heifers U3 (NI)          0\n",
      "Steers O3 (NI)           0\n",
      "Steers O4 (NI)           1\n",
      "Steers R3 (NI)           0\n",
      "Steers R4 (NI)           0\n",
      "Steers U2 (NI)           1\n",
      "Steers U3 (NI)           0\n",
      "Steers U4 (NI)           0\n",
      "Young Bulls O2 (NI)      2\n",
      "Young Bulls O3 (NI)      1\n",
      "Young Bulls R2 (NI)      1\n",
      "Young Bulls R3 (NI)      1\n",
      "Young Bulls U2 (NI)      3\n",
      "Young Bulls U3 (NI)      1\n",
      "dtype: int64\n"
     ]
    }
   ],
   "source": [
    "print(df_NI.isnull().sum())"
   ]
  },
  {
   "cell_type": "code",
   "execution_count": 15,
   "id": "72db0532",
   "metadata": {},
   "outputs": [],
   "source": [
    "concatenated = pd.concat([df_ire, df_GB], axis=1)"
   ]
  },
  {
   "cell_type": "code",
   "execution_count": 16,
   "id": "5319c475",
   "metadata": {},
   "outputs": [
    {
     "data": {
      "text/plain": [
       "(250, 62)"
      ]
     },
     "execution_count": 16,
     "metadata": {},
     "output_type": "execute_result"
    }
   ],
   "source": [
    "concatenated.shape"
   ]
  },
  {
   "cell_type": "code",
   "execution_count": 17,
   "id": "2e665b98",
   "metadata": {},
   "outputs": [],
   "source": [
    "df = pd.concat([concatenated, df_NI], axis=1)"
   ]
  },
  {
   "cell_type": "code",
   "execution_count": 18,
   "id": "9ef2fa8d",
   "metadata": {},
   "outputs": [
    {
     "data": {
      "text/plain": [
       "(250, 93)"
      ]
     },
     "execution_count": 18,
     "metadata": {},
     "output_type": "execute_result"
    }
   ],
   "source": [
    "df.shape"
   ]
  },
  {
   "cell_type": "code",
   "execution_count": 19,
   "id": "b571fb18",
   "metadata": {},
   "outputs": [],
   "source": [
    "#dropping columns that are mostly empty\n",
    "to_drop = ['Cows R2 (lre)','Bulls R3 (GB)','Cows R2 (GB)','Bulls R3 (NI)', 'Cows R2 (NI)' ]"
   ]
  },
  {
   "cell_type": "code",
   "execution_count": 20,
   "id": "06678e46",
   "metadata": {},
   "outputs": [],
   "source": [
    "df.drop(to_drop, inplace=True, axis=1)"
   ]
  },
  {
   "cell_type": "code",
   "execution_count": 21,
   "id": "68d59bee",
   "metadata": {},
   "outputs": [
    {
     "data": {
      "text/plain": [
       "(250, 88)"
      ]
     },
     "execution_count": 21,
     "metadata": {},
     "output_type": "execute_result"
    }
   ],
   "source": [
    "df.shape"
   ]
  },
  {
   "cell_type": "code",
   "execution_count": 22,
   "id": "dc6d36c1",
   "metadata": {},
   "outputs": [],
   "source": [
    "df_1 = df.dropna(how='any',axis=0) "
   ]
  },
  {
   "cell_type": "code",
   "execution_count": 23,
   "id": "1655b987",
   "metadata": {},
   "outputs": [
    {
     "data": {
      "text/plain": [
       "(242, 88)"
      ]
     },
     "execution_count": 23,
     "metadata": {},
     "output_type": "execute_result"
    }
   ],
   "source": [
    "df_1.shape\n",
    "#becasue it only removes 8 rows, I will drop rows that have any null values"
   ]
  },
  {
   "cell_type": "code",
   "execution_count": 25,
   "id": "366c4d36",
   "metadata": {},
   "outputs": [
    {
     "data": {
      "image/png": "[encoded data removed]",
      "text/plain": [
       "<Figure size 432x288 with 1 Axes>"
      ]
     },
     "metadata": {
      "needs_background": "light"
     },
     "output_type": "display_data"
    }
   ],
   "source": [
    "#line graph of Cows R4 & R3\n",
    "plt.plot(df[\"Date\"], df[\"Cows R4 (Ire)\"], label = \"Cows R4\")\n",
    "plt.plot(df[\"Date\"], df[\"Cows R3 (Ire)\"], label = \"Cows R3\")\n",
    "plt.xlabel(\"Date\")\n",
    "plt.ylabel(\"Price\")\n",
    "plt.legend()\n",
    "plt.show()"
   ]
  },
  {
   "cell_type": "code",
   "execution_count": 26,
   "id": "0297a98c",
   "metadata": {},
   "outputs": [
    {
     "data": {
      "image/png": "[encoded data removed]",
      "text/plain": [
       "<Figure size 432x288 with 1 Axes>"
      ]
     },
     "metadata": {
      "needs_background": "light"
     },
     "output_type": "display_data"
    }
   ],
   "source": [
    "#line graph of Cows R4 & R3\n",
    "plt.plot(df[\"Date\"], df[\"Cows R3 (Ire)\"], label = \"Cows R4\")\n",
    "plt.plot(df[\"Date\"], df[\"Cows R3 (GB)\"], label = \"Cows R3\")\n",
    "plt.xlabel(\"Date\")\n",
    "plt.ylabel(\"Price\")\n",
    "plt.legend()\n",
    "plt.show()"
   ]
  },
  {
   "cell_type": "code",
   "execution_count": 27,
   "id": "a6508ca9",
   "metadata": {},
   "outputs": [
    {
     "data": {
      "image/png": "[encoded data removed]",
      "text/plain": [
       "<Figure size 432x288 with 1 Axes>"
      ]
     },
     "metadata": {
      "needs_background": "light"
     },
     "output_type": "display_data"
    }
   ],
   "source": [
    "#line graph of Cows R4 & R3\n",
    "plt.plot(df[\"Date\"], df[\"Cows R3 (Ire)\"], label = \"Cows R4\")\n",
    "plt.plot(df[\"Date\"], df[\"Cows R3 (GB)\"], label = \"Cows R3\")\n",
    "plt.plot(df[\"Date\"], df[\"Cows R3 (NI)\"], label = \"Cows R3\")\n",
    "plt.xlabel(\"Date\")\n",
    "plt.ylabel(\"Price\")\n",
    "plt.legend()\n",
    "plt.show()"
   ]
  },
  {
   "cell_type": "code",
   "execution_count": 28,
   "id": "5100ceb8",
   "metadata": {},
   "outputs": [
    {
     "data": {
      "text/plain": [
       "0      279.6\n",
       "1      288.9\n",
       "2      296.1\n",
       "3      298.4\n",
       "4      302.0\n",
       "       ...  \n",
       "245    342.7\n",
       "246    337.5\n",
       "247    337.4\n",
       "248    334.7\n",
       "249    333.7\n",
       "Name: Cows R3 (Ire), Length: 250, dtype: float64"
      ]
     },
     "execution_count": 28,
     "metadata": {},
     "output_type": "execute_result"
    }
   ],
   "source": [
    "df[\"Cows R3 (Ire)\"]"
   ]
  },
  {
   "cell_type": "code",
   "execution_count": 29,
   "id": "e8826aef",
   "metadata": {},
   "outputs": [
    {
     "data": {
      "text/html": [
       "<div>\n",
       "<style scoped>\n",
       "    .dataframe tbody tr th:only-of-type {\n",
       "        vertical-align: middle;\n",
       "    }\n",
       "\n",
       "    .dataframe tbody tr th {\n",
       "        vertical-align: top;\n",
       "    }\n",
       "\n",
       "    .dataframe thead th {\n",
       "        text-align: right;\n",
       "    }\n",
       "</style>\n",
       "<table border=\"1\" class=\"dataframe\">\n",
       "  <thead>\n",
       "    <tr style=\"text-align: right;\">\n",
       "      <th></th>\n",
       "      <th>Date</th>\n",
       "      <th>Date</th>\n",
       "      <th>Date</th>\n",
       "    </tr>\n",
       "  </thead>\n",
       "  <tbody>\n",
       "    <tr>\n",
       "      <th>0</th>\n",
       "      <td>2019-10-28</td>\n",
       "      <td>2019-10-28</td>\n",
       "      <td>2019-10-28</td>\n",
       "    </tr>\n",
       "    <tr>\n",
       "      <th>1</th>\n",
       "      <td>2019-10-14</td>\n",
       "      <td>2019-10-14</td>\n",
       "      <td>2019-10-14</td>\n",
       "    </tr>\n",
       "    <tr>\n",
       "      <th>2</th>\n",
       "      <td>2019-10-07</td>\n",
       "      <td>2019-10-07</td>\n",
       "      <td>2019-10-07</td>\n",
       "    </tr>\n",
       "    <tr>\n",
       "      <th>3</th>\n",
       "      <td>2019-09-30</td>\n",
       "      <td>2019-09-30</td>\n",
       "      <td>2019-09-30</td>\n",
       "    </tr>\n",
       "    <tr>\n",
       "      <th>4</th>\n",
       "      <td>2019-09-16</td>\n",
       "      <td>2019-09-16</td>\n",
       "      <td>2019-09-16</td>\n",
       "    </tr>\n",
       "    <tr>\n",
       "      <th>...</th>\n",
       "      <td>...</td>\n",
       "      <td>...</td>\n",
       "      <td>...</td>\n",
       "    </tr>\n",
       "    <tr>\n",
       "      <th>245</th>\n",
       "      <td>2015-01-05</td>\n",
       "      <td>2015-01-05</td>\n",
       "      <td>2015-01-05</td>\n",
       "    </tr>\n",
       "    <tr>\n",
       "      <th>246</th>\n",
       "      <td>2014-12-29</td>\n",
       "      <td>2014-12-29</td>\n",
       "      <td>2014-12-29</td>\n",
       "    </tr>\n",
       "    <tr>\n",
       "      <th>247</th>\n",
       "      <td>2014-12-22</td>\n",
       "      <td>2014-12-22</td>\n",
       "      <td>2014-12-22</td>\n",
       "    </tr>\n",
       "    <tr>\n",
       "      <th>248</th>\n",
       "      <td>2014-12-15</td>\n",
       "      <td>2014-12-15</td>\n",
       "      <td>2014-12-15</td>\n",
       "    </tr>\n",
       "    <tr>\n",
       "      <th>249</th>\n",
       "      <td>2014-12-08</td>\n",
       "      <td>2014-12-08</td>\n",
       "      <td>2014-12-08</td>\n",
       "    </tr>\n",
       "  </tbody>\n",
       "</table>\n",
       "<p>250 rows × 3 columns</p>\n",
       "</div>"
      ],
      "text/plain": [
       "          Date       Date       Date\n",
       "0   2019-10-28 2019-10-28 2019-10-28\n",
       "1   2019-10-14 2019-10-14 2019-10-14\n",
       "2   2019-10-07 2019-10-07 2019-10-07\n",
       "3   2019-09-30 2019-09-30 2019-09-30\n",
       "4   2019-09-16 2019-09-16 2019-09-16\n",
       "..         ...        ...        ...\n",
       "245 2015-01-05 2015-01-05 2015-01-05\n",
       "246 2014-12-29 2014-12-29 2014-12-29\n",
       "247 2014-12-22 2014-12-22 2014-12-22\n",
       "248 2014-12-15 2014-12-15 2014-12-15\n",
       "249 2014-12-08 2014-12-08 2014-12-08\n",
       "\n",
       "[250 rows x 3 columns]"
      ]
     },
     "execution_count": 29,
     "metadata": {},
     "output_type": "execute_result"
    }
   ],
   "source": [
    "df[\"Date\"]"
   ]
  },
  {
   "cell_type": "code",
   "execution_count": 30,
   "id": "cf7885d1",
   "metadata": {},
   "outputs": [],
   "source": [
    "#drop duplicate date columns\n",
    "df2=df.T.drop_duplicates().T"
   ]
  },
  {
   "cell_type": "code",
   "execution_count": 31,
   "id": "af0a7fe9",
   "metadata": {},
   "outputs": [
    {
     "data": {
      "text/plain": [
       "0     2019-10-28\n",
       "1     2019-10-14\n",
       "2     2019-10-07\n",
       "3     2019-09-30\n",
       "4     2019-09-16\n",
       "         ...    \n",
       "245   2015-01-05\n",
       "246   2014-12-29\n",
       "247   2014-12-22\n",
       "248   2014-12-15\n",
       "249   2014-12-08\n",
       "Name: Date, Length: 250, dtype: datetime64[ns]"
      ]
     },
     "execution_count": 31,
     "metadata": {},
     "output_type": "execute_result"
    }
   ],
   "source": [
    "df2['Date']"
   ]
  },
  {
   "cell_type": "code",
   "execution_count": 34,
   "id": "5feaa6d5",
   "metadata": {},
   "outputs": [
    {
     "data": {
      "image/png": "[encoded data removed]",
      "text/plain": [
       "<Figure size 432x288 with 1 Axes>"
      ]
     },
     "metadata": {
      "needs_background": "light"
     },
     "output_type": "display_data"
    }
   ],
   "source": [
    "#line graph of Cows R4 & R3\n",
    "plt.plot(df2[\"Date\"], df2[\"Cows R3 (Ire)\"], label = \"Cows R3 (Ire)\")\n",
    "plt.plot(df2[\"Date\"], df2[\"Cows R3 (GB)\"], label = \"Cows R3 (GB)\")\n",
    "plt.plot(df2[\"Date\"], df2[\"Cows R3 (NI)\"], label = \"Cows R3 (NI)\")\n",
    "plt.xlabel(\"Date\")\n",
    "plt.ylabel(\"Price\")\n",
    "plt.legend()\n",
    "plt.show()"
   ]
  },
  {
   "cell_type": "code",
   "execution_count": 35,
   "id": "9ffd004d",
   "metadata": {},
   "outputs": [
    {
     "data": {
      "text/plain": [
       "(250, 86)"
      ]
     },
     "execution_count": 35,
     "metadata": {},
     "output_type": "execute_result"
    }
   ],
   "source": [
    "df2.shape"
   ]
  },
  {
   "cell_type": "code",
   "execution_count": 36,
   "id": "4d6f7862",
   "metadata": {},
   "outputs": [],
   "source": [
    "df=df2"
   ]
  },
  {
   "cell_type": "code",
   "execution_count": 50,
   "id": "1558f944",
   "metadata": {},
   "outputs": [],
   "source": [
    "#adding month column and year column\n",
    "df['month'] = pd.DatetimeIndex(df['Date']).month\n",
    "df['year'] = pd.DatetimeIndex(df['Date']).year"
   ]
  },
  {
   "cell_type": "code",
   "execution_count": 38,
   "id": "ca9bdd9e",
   "metadata": {},
   "outputs": [
    {
     "data": {
      "text/plain": [
       "(250, 88)"
      ]
     },
     "execution_count": 38,
     "metadata": {},
     "output_type": "execute_result"
    }
   ],
   "source": [
    "df.shape"
   ]
  },
  {
   "cell_type": "code",
   "execution_count": 55,
   "id": "2ed59286",
   "metadata": {},
   "outputs": [],
   "source": [
    "df_2019 = df.loc[df['year'].isin([2019])]\n",
    "df_2018 = df.loc[df['year'].isin([2018])]\n",
    "df_2017 = df.loc[df['year'].isin([2017])]\n",
    "df_2016 = df.loc[df['year'].isin([2016])]\n",
    "df_2015 = df.loc[df['year'].isin([2015])]\n",
    "df_2014 = df.loc[df['year'].isin([2014])]"
   ]
  },
  {
   "cell_type": "code",
   "execution_count": 41,
   "id": "75f159de",
   "metadata": {},
   "outputs": [
    {
     "data": {
      "image/png": "[encoded data removed]",
      "text/plain": [
       "<Figure size 432x288 with 1 Axes>"
      ]
     },
     "metadata": {
      "needs_background": "light"
     },
     "output_type": "display_data"
    }
   ],
   "source": [
    "plt.plot(df_2018[\"month\"], df_2018[\"Heifers R3 (Ire)\"], label = \"Heifers R3 2018\")\n",
    "plt.plot(df_2017[\"month\"], df_2017[\"Heifers R3 (Ire)\"], label = \"Heifers R3 2017\")\n",
    "plt.plot(df_2016[\"month\"], df_2016[\"Heifers R3 (Ire)\"], label = \"Heifers R3 2017\")\n",
    "\n",
    "\n",
    "plt.xlabel(\"month\")\n",
    "plt.ylabel(\"Price\")\n",
    "plt.legend(loc=\"best\")\n",
    "plt.show()"
   ]
  },
  {
   "cell_type": "code",
   "execution_count": 53,
   "id": "8582e512",
   "metadata": {},
   "outputs": [
    {
     "data": {
      "image/png": "[encoded data removed]",
      "text/plain": [
       "<Figure size 432x288 with 1 Axes>"
      ]
     },
     "metadata": {
      "needs_background": "light"
     },
     "output_type": "display_data"
    }
   ],
   "source": [
    "plt.plot(df_2016[\"month\"], df_2016[\"Heifers R3 (Ire)\"], label = \"Heifers R3 2016 (Ire)\")\n",
    "plt.plot(df_2016[\"month\"], df_2016[\"Heifers R3 (GB)\"], label = \"Heifers R3 2016 (GB)\")\n",
    "plt.plot(df_2016[\"month\"], df_2016[\"Heifers R3 (NI)\"], label = \"Heifers R3 2016 (NI)\")\n",
    "\n",
    "\n",
    "plt.xlabel(\"month\")\n",
    "plt.ylabel(\"Price\")\n",
    "plt.legend(loc=\"best\")\n",
    "plt.show()"
   ]
  },
  {
   "cell_type": "code",
   "execution_count": 44,
   "id": "b52497be",
   "metadata": {},
   "outputs": [
    {
     "data": {
      "image/png": "[encoded data removed]",
      "text/plain": [
       "<Figure size 432x288 with 1 Axes>"
      ]
     },
     "metadata": {
      "needs_background": "light"
     },
     "output_type": "display_data"
    }
   ],
   "source": [
    "plt.bar(df_2016[\"month\"], df_2016[\"Heifers R3 (Ire)\"], label = \"Heifers R3 2016 (Ire)\")\n",
    "\n",
    "plt.xlabel(\"month\")\n",
    "plt.ylabel(\"Price\")\n",
    "plt.legend(loc=\"best\")\n",
    "plt.show()"
   ]
  },
  {
   "cell_type": "code",
   "execution_count": 46,
   "id": "0d97cfdc",
   "metadata": {},
   "outputs": [
    {
     "name": "stderr",
     "output_type": "stream",
     "text": [
      "<ipython-input-46-d24fcf6b192b>:1: FutureWarning: weekofyear and week have been deprecated, please use DatetimeIndex.isocalendar().week instead, which returns a Series.  To exactly reproduce the behavior of week and weekofyear and return an Index, you may call pd.Int64Index(idx.isocalendar().week)\n",
      "  df['week'] = pd.DatetimeIndex(df['Date']).week\n"
     ]
    }
   ],
   "source": [
    "df['week'] = pd.DatetimeIndex(df['Date']).week"
   ]
  },
  {
   "cell_type": "code",
   "execution_count": 49,
   "id": "3f6bfea1",
   "metadata": {},
   "outputs": [
    {
     "data": {
      "text/plain": [
       "0      44\n",
       "1      42\n",
       "2      41\n",
       "3      40\n",
       "4      38\n",
       "       ..\n",
       "245     2\n",
       "246     1\n",
       "247    52\n",
       "248    51\n",
       "249    50\n",
       "Name: year, Length: 250, dtype: int64"
      ]
     },
     "execution_count": 49,
     "metadata": {},
     "output_type": "execute_result"
    }
   ],
   "source": [
    "df['year']"
   ]
  },
  {
   "cell_type": "code",
   "execution_count": 51,
   "id": "5ef98a23",
   "metadata": {},
   "outputs": [
    {
     "data": {
      "text/html": [
       "<div>\n",
       "<style scoped>\n",
       "    .dataframe tbody tr th:only-of-type {\n",
       "        vertical-align: middle;\n",
       "    }\n",
       "\n",
       "    .dataframe tbody tr th {\n",
       "        vertical-align: top;\n",
       "    }\n",
       "\n",
       "    .dataframe thead th {\n",
       "        text-align: right;\n",
       "    }\n",
       "</style>\n",
       "<table border=\"1\" class=\"dataframe\">\n",
       "  <thead>\n",
       "    <tr style=\"text-align: right;\">\n",
       "      <th></th>\n",
       "      <th>Date</th>\n",
       "      <th>Bulls R3 (Ire)</th>\n",
       "      <th>Cows O2 (Ire)</th>\n",
       "      <th>Cows O3 (Ire)</th>\n",
       "      <th>Cows O4 (Ire)</th>\n",
       "      <th>Cows P2 (Ire)</th>\n",
       "      <th>Cows P3 (Ire)</th>\n",
       "      <th>Cows R3 (Ire)</th>\n",
       "      <th>Cows R4 (Ire)</th>\n",
       "      <th>Heifers O2 (Ire)</th>\n",
       "      <th>...</th>\n",
       "      <th>Steers U4 (NI)</th>\n",
       "      <th>Young Bulls O2 (NI)</th>\n",
       "      <th>Young Bulls O3 (NI)</th>\n",
       "      <th>Young Bulls R2 (NI)</th>\n",
       "      <th>Young Bulls R3 (NI)</th>\n",
       "      <th>Young Bulls U2 (NI)</th>\n",
       "      <th>Young Bulls U3 (NI)</th>\n",
       "      <th>month</th>\n",
       "      <th>year</th>\n",
       "      <th>week</th>\n",
       "    </tr>\n",
       "  </thead>\n",
       "  <tbody>\n",
       "    <tr>\n",
       "      <th>0</th>\n",
       "      <td>2019-10-28</td>\n",
       "      <td>241.6</td>\n",
       "      <td>255.0</td>\n",
       "      <td>259.2</td>\n",
       "      <td>259.7</td>\n",
       "      <td>228.6</td>\n",
       "      <td>247.7</td>\n",
       "      <td>279.6</td>\n",
       "      <td>279.3</td>\n",
       "      <td>322.9</td>\n",
       "      <td>...</td>\n",
       "      <td>370.12</td>\n",
       "      <td>337.37</td>\n",
       "      <td>345.89</td>\n",
       "      <td>354.79</td>\n",
       "      <td>360.64</td>\n",
       "      <td>359.13</td>\n",
       "      <td>358.31</td>\n",
       "      <td>10</td>\n",
       "      <td>2019</td>\n",
       "      <td>44</td>\n",
       "    </tr>\n",
       "    <tr>\n",
       "      <th>1</th>\n",
       "      <td>2019-10-14</td>\n",
       "      <td>239.9</td>\n",
       "      <td>264.6</td>\n",
       "      <td>268.3</td>\n",
       "      <td>268.5</td>\n",
       "      <td>235.1</td>\n",
       "      <td>256.0</td>\n",
       "      <td>288.9</td>\n",
       "      <td>288.0</td>\n",
       "      <td>326.6</td>\n",
       "      <td>...</td>\n",
       "      <td>358.68</td>\n",
       "      <td>329.29</td>\n",
       "      <td>333.71</td>\n",
       "      <td>353.09</td>\n",
       "      <td>356.86</td>\n",
       "      <td>353.88</td>\n",
       "      <td>361.26</td>\n",
       "      <td>10</td>\n",
       "      <td>2019</td>\n",
       "      <td>42</td>\n",
       "    </tr>\n",
       "    <tr>\n",
       "      <th>2</th>\n",
       "      <td>2019-10-07</td>\n",
       "      <td>248.3</td>\n",
       "      <td>270.1</td>\n",
       "      <td>274.2</td>\n",
       "      <td>274.6</td>\n",
       "      <td>242.9</td>\n",
       "      <td>262.0</td>\n",
       "      <td>296.1</td>\n",
       "      <td>293.7</td>\n",
       "      <td>326.5</td>\n",
       "      <td>...</td>\n",
       "      <td>354.7</td>\n",
       "      <td>321.27</td>\n",
       "      <td>329.39</td>\n",
       "      <td>347.95</td>\n",
       "      <td>352.07</td>\n",
       "      <td>348.9</td>\n",
       "      <td>351.14</td>\n",
       "      <td>10</td>\n",
       "      <td>2019</td>\n",
       "      <td>41</td>\n",
       "    </tr>\n",
       "    <tr>\n",
       "      <th>3</th>\n",
       "      <td>2019-09-30</td>\n",
       "      <td>253.0</td>\n",
       "      <td>277.9</td>\n",
       "      <td>279.9</td>\n",
       "      <td>278.4</td>\n",
       "      <td>252.7</td>\n",
       "      <td>267.1</td>\n",
       "      <td>298.4</td>\n",
       "      <td>297.1</td>\n",
       "      <td>331.7</td>\n",
       "      <td>...</td>\n",
       "      <td>353.6</td>\n",
       "      <td>324.38</td>\n",
       "      <td>332.57</td>\n",
       "      <td>344.37</td>\n",
       "      <td>345.92</td>\n",
       "      <td>349.15</td>\n",
       "      <td>350.59</td>\n",
       "      <td>9</td>\n",
       "      <td>2019</td>\n",
       "      <td>40</td>\n",
       "    </tr>\n",
       "    <tr>\n",
       "      <th>4</th>\n",
       "      <td>2019-09-16</td>\n",
       "      <td>264.2</td>\n",
       "      <td>283.3</td>\n",
       "      <td>283.9</td>\n",
       "      <td>282.5</td>\n",
       "      <td>257.2</td>\n",
       "      <td>272.6</td>\n",
       "      <td>302.0</td>\n",
       "      <td>300.1</td>\n",
       "      <td>329.7</td>\n",
       "      <td>...</td>\n",
       "      <td>357.5</td>\n",
       "      <td>325.69</td>\n",
       "      <td>331.77</td>\n",
       "      <td>347.26</td>\n",
       "      <td>359.39</td>\n",
       "      <td>352.49</td>\n",
       "      <td>356.83</td>\n",
       "      <td>9</td>\n",
       "      <td>2019</td>\n",
       "      <td>38</td>\n",
       "    </tr>\n",
       "  </tbody>\n",
       "</table>\n",
       "<p>5 rows × 89 columns</p>\n",
       "</div>"
      ],
      "text/plain": [
       "        Date Bulls R3 (Ire) Cows O2 (Ire) Cows O3 (Ire) Cows O4 (Ire)  \\\n",
       "0 2019-10-28          241.6         255.0         259.2         259.7   \n",
       "1 2019-10-14          239.9         264.6         268.3         268.5   \n",
       "2 2019-10-07          248.3         270.1         274.2         274.6   \n",
       "3 2019-09-30          253.0         277.9         279.9         278.4   \n",
       "4 2019-09-16          264.2         283.3         283.9         282.5   \n",
       "\n",
       "  Cows P2 (Ire) Cows P3 (Ire) Cows R3 (Ire) Cows R4 (Ire) Heifers O2 (Ire)  \\\n",
       "0         228.6         247.7         279.6         279.3            322.9   \n",
       "1         235.1         256.0         288.9         288.0            326.6   \n",
       "2         242.9         262.0         296.1         293.7            326.5   \n",
       "3         252.7         267.1         298.4         297.1            331.7   \n",
       "4         257.2         272.6         302.0         300.1            329.7   \n",
       "\n",
       "   ... Steers U4 (NI) Young Bulls O2 (NI) Young Bulls O3 (NI)  \\\n",
       "0  ...         370.12              337.37              345.89   \n",
       "1  ...         358.68              329.29              333.71   \n",
       "2  ...          354.7              321.27              329.39   \n",
       "3  ...          353.6              324.38              332.57   \n",
       "4  ...          357.5              325.69              331.77   \n",
       "\n",
       "  Young Bulls R2 (NI) Young Bulls R3 (NI) Young Bulls U2 (NI)  \\\n",
       "0              354.79              360.64              359.13   \n",
       "1              353.09              356.86              353.88   \n",
       "2              347.95              352.07               348.9   \n",
       "3              344.37              345.92              349.15   \n",
       "4              347.26              359.39              352.49   \n",
       "\n",
       "  Young Bulls U3 (NI) month  year week  \n",
       "0              358.31    10  2019   44  \n",
       "1              361.26    10  2019   42  \n",
       "2              351.14    10  2019   41  \n",
       "3              350.59     9  2019   40  \n",
       "4              356.83     9  2019   38  \n",
       "\n",
       "[5 rows x 89 columns]"
      ]
     },
     "execution_count": 51,
     "metadata": {},
     "output_type": "execute_result"
    }
   ],
   "source": [
    "df.head()"
   ]
  },
  {
   "cell_type": "code",
   "execution_count": 54,
   "id": "cf62d83f",
   "metadata": {},
   "outputs": [
    {
     "data": {
      "text/html": [
       "<div>\n",
       "<style scoped>\n",
       "    .dataframe tbody tr th:only-of-type {\n",
       "        vertical-align: middle;\n",
       "    }\n",
       "\n",
       "    .dataframe tbody tr th {\n",
       "        vertical-align: top;\n",
       "    }\n",
       "\n",
       "    .dataframe thead th {\n",
       "        text-align: right;\n",
       "    }\n",
       "</style>\n",
       "<table border=\"1\" class=\"dataframe\">\n",
       "  <thead>\n",
       "    <tr style=\"text-align: right;\">\n",
       "      <th></th>\n",
       "      <th>Date</th>\n",
       "      <th>Bulls R3 (Ire)</th>\n",
       "      <th>Cows O2 (Ire)</th>\n",
       "      <th>Cows O3 (Ire)</th>\n",
       "      <th>Cows O4 (Ire)</th>\n",
       "      <th>Cows P2 (Ire)</th>\n",
       "      <th>Cows P3 (Ire)</th>\n",
       "      <th>Cows R3 (Ire)</th>\n",
       "      <th>Cows R4 (Ire)</th>\n",
       "      <th>Heifers O2 (Ire)</th>\n",
       "      <th>...</th>\n",
       "      <th>Steers U4 (NI)</th>\n",
       "      <th>Young Bulls O2 (NI)</th>\n",
       "      <th>Young Bulls O3 (NI)</th>\n",
       "      <th>Young Bulls R2 (NI)</th>\n",
       "      <th>Young Bulls R3 (NI)</th>\n",
       "      <th>Young Bulls U2 (NI)</th>\n",
       "      <th>Young Bulls U3 (NI)</th>\n",
       "      <th>month</th>\n",
       "      <th>year</th>\n",
       "      <th>week</th>\n",
       "    </tr>\n",
       "  </thead>\n",
       "  <tbody>\n",
       "    <tr>\n",
       "      <th>245</th>\n",
       "      <td>2015-01-05</td>\n",
       "      <td>320.4</td>\n",
       "      <td>312.7</td>\n",
       "      <td>316.3</td>\n",
       "      <td>317.7</td>\n",
       "      <td>282.5</td>\n",
       "      <td>306.8</td>\n",
       "      <td>342.7</td>\n",
       "      <td>341.6</td>\n",
       "      <td>368.0</td>\n",
       "      <td>...</td>\n",
       "      <td>469.06</td>\n",
       "      <td>422.81</td>\n",
       "      <td>418.0</td>\n",
       "      <td>446.34</td>\n",
       "      <td>452.93</td>\n",
       "      <td>448.82</td>\n",
       "      <td>453.8</td>\n",
       "      <td>1</td>\n",
       "      <td>2015</td>\n",
       "      <td>2</td>\n",
       "    </tr>\n",
       "    <tr>\n",
       "      <th>246</th>\n",
       "      <td>2014-12-29</td>\n",
       "      <td>346.5</td>\n",
       "      <td>306.8</td>\n",
       "      <td>315.6</td>\n",
       "      <td>316.8</td>\n",
       "      <td>291.0</td>\n",
       "      <td>308.4</td>\n",
       "      <td>337.5</td>\n",
       "      <td>338.1</td>\n",
       "      <td>364.9</td>\n",
       "      <td>...</td>\n",
       "      <td>463.01</td>\n",
       "      <td>402.24</td>\n",
       "      <td>402.77</td>\n",
       "      <td>437.51</td>\n",
       "      <td>436.89</td>\n",
       "      <td>442.56</td>\n",
       "      <td>446.76</td>\n",
       "      <td>12</td>\n",
       "      <td>2014</td>\n",
       "      <td>1</td>\n",
       "    </tr>\n",
       "    <tr>\n",
       "      <th>247</th>\n",
       "      <td>2014-12-22</td>\n",
       "      <td>309.9</td>\n",
       "      <td>304.9</td>\n",
       "      <td>313.9</td>\n",
       "      <td>313.8</td>\n",
       "      <td>276.8</td>\n",
       "      <td>304.6</td>\n",
       "      <td>337.4</td>\n",
       "      <td>336.6</td>\n",
       "      <td>358.8</td>\n",
       "      <td>...</td>\n",
       "      <td>449.42</td>\n",
       "      <td>403.04</td>\n",
       "      <td>407.06</td>\n",
       "      <td>425.99</td>\n",
       "      <td>438.04</td>\n",
       "      <td>443.97</td>\n",
       "      <td>447.43</td>\n",
       "      <td>12</td>\n",
       "      <td>2014</td>\n",
       "      <td>52</td>\n",
       "    </tr>\n",
       "    <tr>\n",
       "      <th>248</th>\n",
       "      <td>2014-12-15</td>\n",
       "      <td>299.3</td>\n",
       "      <td>303.3</td>\n",
       "      <td>310.4</td>\n",
       "      <td>311.7</td>\n",
       "      <td>275.1</td>\n",
       "      <td>299.2</td>\n",
       "      <td>334.7</td>\n",
       "      <td>334.4</td>\n",
       "      <td>360.4</td>\n",
       "      <td>...</td>\n",
       "      <td>447.03</td>\n",
       "      <td>400.9</td>\n",
       "      <td>404.9</td>\n",
       "      <td>423.73</td>\n",
       "      <td>435.71</td>\n",
       "      <td>441.61</td>\n",
       "      <td>445.05</td>\n",
       "      <td>12</td>\n",
       "      <td>2014</td>\n",
       "      <td>51</td>\n",
       "    </tr>\n",
       "    <tr>\n",
       "      <th>249</th>\n",
       "      <td>2014-12-08</td>\n",
       "      <td>280.2</td>\n",
       "      <td>303.4</td>\n",
       "      <td>310.6</td>\n",
       "      <td>311.6</td>\n",
       "      <td>275.8</td>\n",
       "      <td>299.3</td>\n",
       "      <td>333.7</td>\n",
       "      <td>333.1</td>\n",
       "      <td>357.1</td>\n",
       "      <td>...</td>\n",
       "      <td>437.6</td>\n",
       "      <td>391.07</td>\n",
       "      <td>401.83</td>\n",
       "      <td>412.85</td>\n",
       "      <td>423.39</td>\n",
       "      <td>425.55</td>\n",
       "      <td>422.63</td>\n",
       "      <td>12</td>\n",
       "      <td>2014</td>\n",
       "      <td>50</td>\n",
       "    </tr>\n",
       "  </tbody>\n",
       "</table>\n",
       "<p>5 rows × 89 columns</p>\n",
       "</div>"
      ],
      "text/plain": [
       "          Date Bulls R3 (Ire) Cows O2 (Ire) Cows O3 (Ire) Cows O4 (Ire)  \\\n",
       "245 2015-01-05          320.4         312.7         316.3         317.7   \n",
       "246 2014-12-29          346.5         306.8         315.6         316.8   \n",
       "247 2014-12-22          309.9         304.9         313.9         313.8   \n",
       "248 2014-12-15          299.3         303.3         310.4         311.7   \n",
       "249 2014-12-08          280.2         303.4         310.6         311.6   \n",
       "\n",
       "    Cows P2 (Ire) Cows P3 (Ire) Cows R3 (Ire) Cows R4 (Ire) Heifers O2 (Ire)  \\\n",
       "245         282.5         306.8         342.7         341.6            368.0   \n",
       "246         291.0         308.4         337.5         338.1            364.9   \n",
       "247         276.8         304.6         337.4         336.6            358.8   \n",
       "248         275.1         299.2         334.7         334.4            360.4   \n",
       "249         275.8         299.3         333.7         333.1            357.1   \n",
       "\n",
       "     ... Steers U4 (NI) Young Bulls O2 (NI) Young Bulls O3 (NI)  \\\n",
       "245  ...         469.06              422.81               418.0   \n",
       "246  ...         463.01              402.24              402.77   \n",
       "247  ...         449.42              403.04              407.06   \n",
       "248  ...         447.03               400.9               404.9   \n",
       "249  ...          437.6              391.07              401.83   \n",
       "\n",
       "    Young Bulls R2 (NI) Young Bulls R3 (NI) Young Bulls U2 (NI)  \\\n",
       "245              446.34              452.93              448.82   \n",
       "246              437.51              436.89              442.56   \n",
       "247              425.99              438.04              443.97   \n",
       "248              423.73              435.71              441.61   \n",
       "249              412.85              423.39              425.55   \n",
       "\n",
       "    Young Bulls U3 (NI) month  year week  \n",
       "245               453.8     1  2015    2  \n",
       "246              446.76    12  2014    1  \n",
       "247              447.43    12  2014   52  \n",
       "248              445.05    12  2014   51  \n",
       "249              422.63    12  2014   50  \n",
       "\n",
       "[5 rows x 89 columns]"
      ]
     },
     "execution_count": 54,
     "metadata": {},
     "output_type": "execute_result"
    }
   ],
   "source": [
    "df.tail()"
   ]
  },
  {
   "cell_type": "code",
   "execution_count": 57,
   "id": "3c97d6ef",
   "metadata": {},
   "outputs": [
    {
     "data": {
      "image/png": "[encoded data removed]",
      "text/plain": [
       "<Figure size 432x288 with 1 Axes>"
      ]
     },
     "metadata": {
      "needs_background": "light"
     },
     "output_type": "display_data"
    }
   ],
   "source": [
    "plt.plot(df_2016[\"week\"], df_2016[\"Heifers R3 (Ire)\"], label = \"Heifers R3 2016 (Ire)\")\n",
    "plt.plot(df_2016[\"week\"], df_2016[\"Heifers R3 (GB)\"], label = \"Heifers R3 2016 (GB)\")\n",
    "plt.plot(df_2016[\"week\"], df_2016[\"Heifers R3 (NI)\"], label = \"Heifers R3 2016 (NI)\")\n",
    "\n",
    "\n",
    "plt.xlabel(\"Week\")\n",
    "plt.ylabel(\"Price\")\n",
    "plt.legend(loc=\"best\")\n",
    "plt.show()"
   ]
  },
  {
   "cell_type": "code",
   "execution_count": 59,
   "id": "aa214c6d",
   "metadata": {},
   "outputs": [
    {
     "data": {
      "image/png": "[encoded data removed]",
      "text/plain": [
       "<Figure size 432x288 with 1 Axes>"
      ]
     },
     "metadata": {
      "needs_background": "light"
     },
     "output_type": "display_data"
    }
   ],
   "source": [
    "plt.plot(df[\"year\"], df[\"Heifers R3 (Ire)\"], label = \"Heifers R3 2016 (Ire)\")\n",
    "plt.plot(df[\"year\"], df[\"Heifers R3 (GB)\"], label = \"Heifers R3 2016 (GB)\")\n",
    "plt.plot(df[\"year\"], df[\"Heifers R3 (NI)\"], label = \"Heifers R3 2016 (NI)\")\n",
    "\n",
    "\n",
    "plt.xlabel(\"Week\")\n",
    "plt.ylabel(\"Price\")\n",
    "plt.legend(loc=\"best\")\n",
    "plt.show()"
   ]
  },
  {
   "cell_type": "code",
   "execution_count": 60,
   "id": "5ff4611a",
   "metadata": {},
   "outputs": [],
   "source": [
    "import statsmodels.api as sm\n",
    "from statsmodels.formula.api import ols\n",
    "from scipy import stats\n",
    "import scipy as scipy"
   ]
  },
  {
   "cell_type": "code",
   "execution_count": 93,
   "id": "b93bcbf9",
   "metadata": {},
   "outputs": [
    {
     "data": {
      "text/plain": [
       "<Figure size 432x288 with 0 Axes>"
      ]
     },
     "execution_count": 93,
     "metadata": {},
     "output_type": "execute_result"
    },
    {
     "data": {
      "image/png": "[encoded data removed]",
      "text/plain": [
       "<Figure size 432x288 with 1 Axes>"
      ]
     },
     "metadata": {
      "needs_background": "light"
     },
     "output_type": "display_data"
    },
    {
     "data": {
      "text/plain": [
       "<Figure size 432x288 with 0 Axes>"
      ]
     },
     "metadata": {},
     "output_type": "display_data"
    }
   ],
   "source": [
    "#Normality plot. Our variable is \"charges\"\n",
    "x = df[\"Cows R3 (Ire)\"].astype(int)\n",
    "\n",
    "stats.probplot(x , plot=plt)\n",
    "plt.figure()"
   ]
  },
  {
   "cell_type": "code",
   "execution_count": null,
   "id": "55b662c3",
   "metadata": {},
   "outputs": [],
   "source": [
    "#Shapiro wilk test\n",
    "\n",
    "stats.shapiro(dataset.charges[dataset.region == \"east\"])"
   ]
  },
  {
   "cell_type": "code",
   "execution_count": 119,
   "id": "a28d169e",
   "metadata": {},
   "outputs": [
    {
     "data": {
      "text/plain": [
       "24     307\n",
       "25     299\n",
       "26     296\n",
       "27     293\n",
       "28     292\n",
       "76     364\n",
       "77     359\n",
       "78     356\n",
       "79     356\n",
       "80     355\n",
       "126    344\n",
       "127    344\n",
       "128    343\n",
       "129    339\n",
       "178    335\n",
       "179    336\n",
       "180    334\n",
       "181    333\n",
       "229    370\n",
       "230    369\n",
       "231    367\n",
       "232    367\n",
       "Name: Cows R3 (Ire), dtype: int64"
      ]
     },
     "execution_count": 119,
     "metadata": {},
     "output_type": "execute_result"
    }
   ],
   "source": [
    "x = df[\"Cows R3 (Ire)\"].astype(int)\n",
    "y = x[df.month == 5]\n",
    "\n",
    "y"
   ]
  },
  {
   "cell_type": "code",
   "execution_count": 120,
   "id": "29f6bb97",
   "metadata": {},
   "outputs": [
    {
     "data": {
      "text/plain": [
       "ShapiroResult(statistic=0.8813904523849487, pvalue=0.012843756936490536)"
      ]
     },
     "execution_count": 120,
     "metadata": {},
     "output_type": "execute_result"
    }
   ],
   "source": [
    "#Shapiro wilk test\n",
    "\n",
    "stats.shapiro(y)"
   ]
  },
  {
   "cell_type": "code",
   "execution_count": 121,
   "id": "ea38bf69",
   "metadata": {},
   "outputs": [
    {
     "data": {
      "text/plain": [
       "94     347\n",
       "95     345\n",
       "96     341\n",
       "97     341\n",
       "98     334\n",
       "99     332\n",
       "100    330\n",
       "101    331\n",
       "102    331\n",
       "103    333\n",
       "104    335\n",
       "105    334\n",
       "106    334\n",
       "107    333\n",
       "108    334\n",
       "109    334\n",
       "110    335\n",
       "111    339\n",
       "112    343\n",
       "113    342\n",
       "114    344\n",
       "115    341\n",
       "116    339\n",
       "117    338\n",
       "118    337\n",
       "119    344\n",
       "120    349\n",
       "121    353\n",
       "122    353\n",
       "123    352\n",
       "124    353\n",
       "125    349\n",
       "126    344\n",
       "127    344\n",
       "128    343\n",
       "129    339\n",
       "130    335\n",
       "131    331\n",
       "132    329\n",
       "133    327\n",
       "134    325\n",
       "135    325\n",
       "136    325\n",
       "137    325\n",
       "138    324\n",
       "139    318\n",
       "140    322\n",
       "141    321\n",
       "142    321\n",
       "Name: Cows R3 (Ire), dtype: int64"
      ]
     },
     "execution_count": 121,
     "metadata": {},
     "output_type": "execute_result"
    }
   ],
   "source": [
    "x = df[\"Cows R3 (Ire)\"].astype(int)\n",
    "y = x[df.year == 2017]\n",
    "y"
   ]
  },
  {
   "cell_type": "code",
   "execution_count": 122,
   "id": "2ca0a639",
   "metadata": {},
   "outputs": [
    {
     "data": {
      "text/plain": [
       "ShapiroResult(statistic=0.9810703992843628, pvalue=0.002053596545010805)"
      ]
     },
     "execution_count": 122,
     "metadata": {},
     "output_type": "execute_result"
    }
   ],
   "source": [
    "#Shapiro wilk test\n",
    "\n",
    "stats.shapiro(x)"
   ]
  },
  {
   "cell_type": "code",
   "execution_count": 109,
   "id": "79b7c956",
   "metadata": {},
   "outputs": [
    {
     "data": {
      "text/plain": [
       "0      279\n",
       "1      288\n",
       "2      296\n",
       "3      298\n",
       "4      302\n",
       "      ... \n",
       "245    342\n",
       "246    337\n",
       "247    337\n",
       "248    334\n",
       "249    333\n",
       "Name: Cows R3 (Ire), Length: 250, dtype: int64"
      ]
     },
     "execution_count": 109,
     "metadata": {},
     "output_type": "execute_result"
    }
   ],
   "source": [
    "x"
   ]
  },
  {
   "cell_type": "code",
   "execution_count": 114,
   "id": "c2fe3795",
   "metadata": {},
   "outputs": [],
   "source": [
    "z = df.iloc[1:5,:-3].astype(int)"
   ]
  },
  {
   "cell_type": "code",
   "execution_count": 115,
   "id": "beeaffd3",
   "metadata": {},
   "outputs": [
    {
     "data": {
      "text/plain": [
       "ShapiroResult(statistic=0.08112102746963501, pvalue=1.4578341311276947e-37)"
      ]
     },
     "execution_count": 115,
     "metadata": {},
     "output_type": "execute_result"
    }
   ],
   "source": [
    "stats.shapiro(z)"
   ]
  },
  {
   "cell_type": "code",
   "execution_count": 123,
   "id": "72299e5b",
   "metadata": {},
   "outputs": [],
   "source": [
    "x = df_1[\"Cows R3 (Ire)\"]"
   ]
  },
  {
   "cell_type": "code",
   "execution_count": 124,
   "id": "3d52b3b5",
   "metadata": {},
   "outputs": [
    {
     "data": {
      "text/plain": [
       "23.40941071223229"
      ]
     },
     "execution_count": 124,
     "metadata": {},
     "output_type": "execute_result"
    }
   ],
   "source": [
    "sd1 = x.std()\n",
    "sd1"
   ]
  },
  {
   "cell_type": "code",
   "execution_count": 125,
   "id": "1eb3e6f9",
   "metadata": {},
   "outputs": [
    {
     "data": {
      "text/plain": [
       "0      279.6\n",
       "1      288.9\n",
       "2      296.1\n",
       "3      298.4\n",
       "4      302.0\n",
       "       ...  \n",
       "245    342.7\n",
       "246    337.5\n",
       "247    337.4\n",
       "248    334.7\n",
       "249    333.7\n",
       "Name: Cows R3 (Ire), Length: 250, dtype: object"
      ]
     },
     "execution_count": 125,
     "metadata": {},
     "output_type": "execute_result"
    }
   ],
   "source": [
    "x"
   ]
  },
  {
   "cell_type": "code",
   "execution_count": 126,
   "id": "337aeb25",
   "metadata": {},
   "outputs": [
    {
     "data": {
      "text/plain": [
       "0      288.79\n",
       "1      295.12\n",
       "2      293.35\n",
       "3      299.64\n",
       "4      302.45\n",
       "        ...  \n",
       "245    347.49\n",
       "246    342.86\n",
       "247    327.91\n",
       "248    325.42\n",
       "249    322.89\n",
       "Name: Cows R3 (GB), Length: 250, dtype: object"
      ]
     },
     "execution_count": 126,
     "metadata": {},
     "output_type": "execute_result"
    }
   ],
   "source": [
    "y = df_1[\"Cows R3 (GB)\"]\n",
    "y"
   ]
  },
  {
   "cell_type": "code",
   "execution_count": 131,
   "id": "a06a2f46",
   "metadata": {},
   "outputs": [
    {
     "ename": "ValueError",
     "evalue": "cannot convert float NaN to integer",
     "output_type": "error",
     "traceback": [
      "\u001b[0;31m---------------------------------------------------------------------------\u001b[0m",
      "\u001b[0;31mValueError\u001b[0m                                Traceback (most recent call last)",
      "\u001b[0;32m<ipython-input-131-439f0e8249ba>\u001b[0m in \u001b[0;36m<module>\u001b[0;34m\u001b[0m\n\u001b[0;32m----> 1\u001b[0;31m \u001b[0mz\u001b[0m\u001b[0;34m=\u001b[0m \u001b[0;34m[\u001b[0m\u001b[0mx\u001b[0m\u001b[0;34m.\u001b[0m\u001b[0mastype\u001b[0m\u001b[0;34m(\u001b[0m\u001b[0mint\u001b[0m\u001b[0;34m)\u001b[0m\u001b[0;34m]\u001b[0m \u001b[0;34m+\u001b[0m \u001b[0;34m[\u001b[0m\u001b[0my\u001b[0m\u001b[0;34m.\u001b[0m\u001b[0mastype\u001b[0m\u001b[0;34m(\u001b[0m\u001b[0mint\u001b[0m\u001b[0;34m)\u001b[0m\u001b[0;34m]\u001b[0m\u001b[0;34m\u001b[0m\u001b[0;34m\u001b[0m\u001b[0m\n\u001b[0m\u001b[1;32m      2\u001b[0m \u001b[0mz\u001b[0m\u001b[0;34m\u001b[0m\u001b[0;34m\u001b[0m\u001b[0m\n",
      "\u001b[0;32m~/opt/anaconda3/lib/python3.8/site-packages/pandas/core/generic.py\u001b[0m in \u001b[0;36mastype\u001b[0;34m(self, dtype, copy, errors)\u001b[0m\n\u001b[1;32m   5875\u001b[0m         \u001b[0;32melse\u001b[0m\u001b[0;34m:\u001b[0m\u001b[0;34m\u001b[0m\u001b[0;34m\u001b[0m\u001b[0m\n\u001b[1;32m   5876\u001b[0m             \u001b[0;31m# else, only a single dtype is given\u001b[0m\u001b[0;34m\u001b[0m\u001b[0;34m\u001b[0m\u001b[0;34m\u001b[0m\u001b[0m\n\u001b[0;32m-> 5877\u001b[0;31m             \u001b[0mnew_data\u001b[0m \u001b[0;34m=\u001b[0m \u001b[0mself\u001b[0m\u001b[0;34m.\u001b[0m\u001b[0m_mgr\u001b[0m\u001b[0;34m.\u001b[0m\u001b[0mastype\u001b[0m\u001b[0;34m(\u001b[0m\u001b[0mdtype\u001b[0m\u001b[0;34m=\u001b[0m\u001b[0mdtype\u001b[0m\u001b[0;34m,\u001b[0m \u001b[0mcopy\u001b[0m\u001b[0;34m=\u001b[0m\u001b[0mcopy\u001b[0m\u001b[0;34m,\u001b[0m \u001b[0merrors\u001b[0m\u001b[0;34m=\u001b[0m\u001b[0merrors\u001b[0m\u001b[0;34m)\u001b[0m\u001b[0;34m\u001b[0m\u001b[0;34m\u001b[0m\u001b[0m\n\u001b[0m\u001b[1;32m   5878\u001b[0m             \u001b[0;32mreturn\u001b[0m \u001b[0mself\u001b[0m\u001b[0;34m.\u001b[0m\u001b[0m_constructor\u001b[0m\u001b[0;34m(\u001b[0m\u001b[0mnew_data\u001b[0m\u001b[0;34m)\u001b[0m\u001b[0;34m.\u001b[0m\u001b[0m__finalize__\u001b[0m\u001b[0;34m(\u001b[0m\u001b[0mself\u001b[0m\u001b[0;34m,\u001b[0m \u001b[0mmethod\u001b[0m\u001b[0;34m=\u001b[0m\u001b[0;34m\"astype\"\u001b[0m\u001b[0;34m)\u001b[0m\u001b[0;34m\u001b[0m\u001b[0;34m\u001b[0m\u001b[0m\n\u001b[1;32m   5879\u001b[0m \u001b[0;34m\u001b[0m\u001b[0m\n",
      "\u001b[0;32m~/opt/anaconda3/lib/python3.8/site-packages/pandas/core/internals/managers.py\u001b[0m in \u001b[0;36mastype\u001b[0;34m(self, dtype, copy, errors)\u001b[0m\n\u001b[1;32m    629\u001b[0m         \u001b[0mself\u001b[0m\u001b[0;34m,\u001b[0m \u001b[0mdtype\u001b[0m\u001b[0;34m,\u001b[0m \u001b[0mcopy\u001b[0m\u001b[0;34m:\u001b[0m \u001b[0mbool\u001b[0m \u001b[0;34m=\u001b[0m \u001b[0;32mFalse\u001b[0m\u001b[0;34m,\u001b[0m \u001b[0merrors\u001b[0m\u001b[0;34m:\u001b[0m \u001b[0mstr\u001b[0m \u001b[0;34m=\u001b[0m \u001b[0;34m\"raise\"\u001b[0m\u001b[0;34m\u001b[0m\u001b[0;34m\u001b[0m\u001b[0m\n\u001b[1;32m    630\u001b[0m     ) -> \"BlockManager\":\n\u001b[0;32m--> 631\u001b[0;31m         \u001b[0;32mreturn\u001b[0m \u001b[0mself\u001b[0m\u001b[0;34m.\u001b[0m\u001b[0mapply\u001b[0m\u001b[0;34m(\u001b[0m\u001b[0;34m\"astype\"\u001b[0m\u001b[0;34m,\u001b[0m \u001b[0mdtype\u001b[0m\u001b[0;34m=\u001b[0m\u001b[0mdtype\u001b[0m\u001b[0;34m,\u001b[0m \u001b[0mcopy\u001b[0m\u001b[0;34m=\u001b[0m\u001b[0mcopy\u001b[0m\u001b[0;34m,\u001b[0m \u001b[0merrors\u001b[0m\u001b[0;34m=\u001b[0m\u001b[0merrors\u001b[0m\u001b[0;34m)\u001b[0m\u001b[0;34m\u001b[0m\u001b[0;34m\u001b[0m\u001b[0m\n\u001b[0m\u001b[1;32m    632\u001b[0m \u001b[0;34m\u001b[0m\u001b[0m\n\u001b[1;32m    633\u001b[0m     def convert(\n",
      "\u001b[0;32m~/opt/anaconda3/lib/python3.8/site-packages/pandas/core/internals/managers.py\u001b[0m in \u001b[0;36mapply\u001b[0;34m(self, f, align_keys, ignore_failures, **kwargs)\u001b[0m\n\u001b[1;32m    425\u001b[0m                     \u001b[0mapplied\u001b[0m \u001b[0;34m=\u001b[0m \u001b[0mb\u001b[0m\u001b[0;34m.\u001b[0m\u001b[0mapply\u001b[0m\u001b[0;34m(\u001b[0m\u001b[0mf\u001b[0m\u001b[0;34m,\u001b[0m \u001b[0;34m**\u001b[0m\u001b[0mkwargs\u001b[0m\u001b[0;34m)\u001b[0m\u001b[0;34m\u001b[0m\u001b[0;34m\u001b[0m\u001b[0m\n\u001b[1;32m    426\u001b[0m                 \u001b[0;32melse\u001b[0m\u001b[0;34m:\u001b[0m\u001b[0;34m\u001b[0m\u001b[0;34m\u001b[0m\u001b[0m\n\u001b[0;32m--> 427\u001b[0;31m                     \u001b[0mapplied\u001b[0m \u001b[0;34m=\u001b[0m \u001b[0mgetattr\u001b[0m\u001b[0;34m(\u001b[0m\u001b[0mb\u001b[0m\u001b[0;34m,\u001b[0m \u001b[0mf\u001b[0m\u001b[0;34m)\u001b[0m\u001b[0;34m(\u001b[0m\u001b[0;34m**\u001b[0m\u001b[0mkwargs\u001b[0m\u001b[0;34m)\u001b[0m\u001b[0;34m\u001b[0m\u001b[0;34m\u001b[0m\u001b[0m\n\u001b[0m\u001b[1;32m    428\u001b[0m             \u001b[0;32mexcept\u001b[0m \u001b[0;34m(\u001b[0m\u001b[0mTypeError\u001b[0m\u001b[0;34m,\u001b[0m \u001b[0mNotImplementedError\u001b[0m\u001b[0;34m)\u001b[0m\u001b[0;34m:\u001b[0m\u001b[0;34m\u001b[0m\u001b[0;34m\u001b[0m\u001b[0m\n\u001b[1;32m    429\u001b[0m                 \u001b[0;32mif\u001b[0m \u001b[0;32mnot\u001b[0m \u001b[0mignore_failures\u001b[0m\u001b[0;34m:\u001b[0m\u001b[0;34m\u001b[0m\u001b[0;34m\u001b[0m\u001b[0m\n",
      "\u001b[0;32m~/opt/anaconda3/lib/python3.8/site-packages/pandas/core/internals/blocks.py\u001b[0m in \u001b[0;36mastype\u001b[0;34m(self, dtype, copy, errors)\u001b[0m\n\u001b[1;32m    671\u001b[0m             \u001b[0mvals1d\u001b[0m \u001b[0;34m=\u001b[0m \u001b[0mvalues\u001b[0m\u001b[0;34m.\u001b[0m\u001b[0mravel\u001b[0m\u001b[0;34m(\u001b[0m\u001b[0;34m)\u001b[0m\u001b[0;34m\u001b[0m\u001b[0;34m\u001b[0m\u001b[0m\n\u001b[1;32m    672\u001b[0m             \u001b[0;32mtry\u001b[0m\u001b[0;34m:\u001b[0m\u001b[0;34m\u001b[0m\u001b[0;34m\u001b[0m\u001b[0m\n\u001b[0;32m--> 673\u001b[0;31m                 \u001b[0mvalues\u001b[0m \u001b[0;34m=\u001b[0m \u001b[0mastype_nansafe\u001b[0m\u001b[0;34m(\u001b[0m\u001b[0mvals1d\u001b[0m\u001b[0;34m,\u001b[0m \u001b[0mdtype\u001b[0m\u001b[0;34m,\u001b[0m \u001b[0mcopy\u001b[0m\u001b[0;34m=\u001b[0m\u001b[0;32mTrue\u001b[0m\u001b[0;34m)\u001b[0m\u001b[0;34m\u001b[0m\u001b[0;34m\u001b[0m\u001b[0m\n\u001b[0m\u001b[1;32m    674\u001b[0m             \u001b[0;32mexcept\u001b[0m \u001b[0;34m(\u001b[0m\u001b[0mValueError\u001b[0m\u001b[0;34m,\u001b[0m \u001b[0mTypeError\u001b[0m\u001b[0;34m)\u001b[0m\u001b[0;34m:\u001b[0m\u001b[0;34m\u001b[0m\u001b[0;34m\u001b[0m\u001b[0m\n\u001b[1;32m    675\u001b[0m                 \u001b[0;31m# e.g. astype_nansafe can fail on object-dtype of strings\u001b[0m\u001b[0;34m\u001b[0m\u001b[0;34m\u001b[0m\u001b[0;34m\u001b[0m\u001b[0m\n",
      "\u001b[0;32m~/opt/anaconda3/lib/python3.8/site-packages/pandas/core/dtypes/cast.py\u001b[0m in \u001b[0;36mastype_nansafe\u001b[0;34m(arr, dtype, copy, skipna)\u001b[0m\n\u001b[1;32m   1072\u001b[0m         \u001b[0;31m# work around NumPy brokenness, #1987\u001b[0m\u001b[0;34m\u001b[0m\u001b[0;34m\u001b[0m\u001b[0;34m\u001b[0m\u001b[0m\n\u001b[1;32m   1073\u001b[0m         \u001b[0;32mif\u001b[0m \u001b[0mnp\u001b[0m\u001b[0;34m.\u001b[0m\u001b[0missubdtype\u001b[0m\u001b[0;34m(\u001b[0m\u001b[0mdtype\u001b[0m\u001b[0;34m.\u001b[0m\u001b[0mtype\u001b[0m\u001b[0;34m,\u001b[0m \u001b[0mnp\u001b[0m\u001b[0;34m.\u001b[0m\u001b[0minteger\u001b[0m\u001b[0;34m)\u001b[0m\u001b[0;34m:\u001b[0m\u001b[0;34m\u001b[0m\u001b[0;34m\u001b[0m\u001b[0m\n\u001b[0;32m-> 1074\u001b[0;31m             \u001b[0;32mreturn\u001b[0m \u001b[0mlib\u001b[0m\u001b[0;34m.\u001b[0m\u001b[0mastype_intsafe\u001b[0m\u001b[0;34m(\u001b[0m\u001b[0marr\u001b[0m\u001b[0;34m.\u001b[0m\u001b[0mravel\u001b[0m\u001b[0;34m(\u001b[0m\u001b[0;34m)\u001b[0m\u001b[0;34m,\u001b[0m \u001b[0mdtype\u001b[0m\u001b[0;34m)\u001b[0m\u001b[0;34m.\u001b[0m\u001b[0mreshape\u001b[0m\u001b[0;34m(\u001b[0m\u001b[0marr\u001b[0m\u001b[0;34m.\u001b[0m\u001b[0mshape\u001b[0m\u001b[0;34m)\u001b[0m\u001b[0;34m\u001b[0m\u001b[0;34m\u001b[0m\u001b[0m\n\u001b[0m\u001b[1;32m   1075\u001b[0m \u001b[0;34m\u001b[0m\u001b[0m\n\u001b[1;32m   1076\u001b[0m         \u001b[0;31m# if we have a datetime/timedelta array of objects\u001b[0m\u001b[0;34m\u001b[0m\u001b[0;34m\u001b[0m\u001b[0;34m\u001b[0m\u001b[0m\n",
      "\u001b[0;32mpandas/_libs/lib.pyx\u001b[0m in \u001b[0;36mpandas._libs.lib.astype_intsafe\u001b[0;34m()\u001b[0m\n",
      "\u001b[0;31mValueError\u001b[0m: cannot convert float NaN to integer"
     ]
    }
   ],
   "source": [
    "z = [x.astype(int)] + [y.astype(int)]\n",
    "z"
   ]
  },
  {
   "cell_type": "code",
   "execution_count": 144,
   "id": "ebe5763b",
   "metadata": {},
   "outputs": [
    {
     "data": {
      "text/plain": [
       "[0      353.6\n",
       " 1      355.4\n",
       " 2      355.7\n",
       " 3      357.0\n",
       " 4      351.2\n",
       "        ...  \n",
       " 245    399.8\n",
       " 246    396.4\n",
       " 247    394.7\n",
       " 248    392.2\n",
       " 249    389.9\n",
       " Name: Heifers R3 (Ire), Length: 242, dtype: float64,\n",
       " 0      382.10\n",
       " 1      377.44\n",
       " 2      368.36\n",
       " 3      369.15\n",
       " 4      370.54\n",
       "         ...  \n",
       " 245    471.97\n",
       " 246    467.00\n",
       " 247    462.95\n",
       " 248    457.61\n",
       " 249    456.92\n",
       " Name: Heifers R3 (GB), Length: 242, dtype: float64]"
      ]
     },
     "execution_count": 144,
     "metadata": {},
     "output_type": "execute_result"
    }
   ],
   "source": [
    "z = [x] + [y]\n",
    "z"
   ]
  },
  {
   "cell_type": "code",
   "execution_count": 145,
   "id": "0e357156",
   "metadata": {},
   "outputs": [
    {
     "data": {
      "text/plain": [
       "ShapiroResult(statistic=0.9117629528045654, pvalue=3.5701401111408373e-16)"
      ]
     },
     "execution_count": 145,
     "metadata": {},
     "output_type": "execute_result"
    }
   ],
   "source": [
    "stats.shapiro(z)"
   ]
  },
  {
   "cell_type": "code",
   "execution_count": 130,
   "id": "09dda8f9",
   "metadata": {},
   "outputs": [
    {
     "data": {
      "text/plain": [
       "[0      279.6\n",
       " 1      288.9\n",
       " 2      296.1\n",
       " 3      298.4\n",
       " 4      302.0\n",
       "        ...  \n",
       " 245    342.7\n",
       " 246    337.5\n",
       " 247    337.4\n",
       " 248    334.7\n",
       " 249    333.7\n",
       " Name: Cows R3 (Ire), Length: 250, dtype: object,\n",
       " 0      288.79\n",
       " 1      295.12\n",
       " 2      293.35\n",
       " 3      299.64\n",
       " 4      302.45\n",
       "         ...  \n",
       " 245    347.49\n",
       " 246    342.86\n",
       " 247    327.91\n",
       " 248    325.42\n",
       " 249    322.89\n",
       " Name: Cows R3 (GB), Length: 250, dtype: object]"
      ]
     },
     "execution_count": 130,
     "metadata": {},
     "output_type": "execute_result"
    }
   ],
   "source": [
    "z"
   ]
  },
  {
   "cell_type": "code",
   "execution_count": 142,
   "id": "dd9882d6",
   "metadata": {},
   "outputs": [],
   "source": [
    "x = df_1[\"Heifers R3 (Ire)\"]\n",
    "y = df_1[\"Heifers R3 (GB)\"]\n",
    "z = df_1[\"Heifers R3 (NI)\"]"
   ]
  },
  {
   "cell_type": "code",
   "execution_count": 143,
   "id": "7a46ad13",
   "metadata": {},
   "outputs": [
    {
     "data": {
      "text/plain": [
       "KruskalResult(statistic=172.602329312427, pvalue=3.3103995019539925e-38)"
      ]
     },
     "execution_count": 143,
     "metadata": {},
     "output_type": "execute_result"
    }
   ],
   "source": [
    "#perform Kruskal-Wallis Test \n",
    "stats.kruskal(x, y, z)\n",
    "\n",
    "#(statistic=6.2878, pvalue=0.0431)"
   ]
  },
  {
   "cell_type": "code",
   "execution_count": 138,
   "id": "8365d0c0",
   "metadata": {},
   "outputs": [
    {
     "ename": "ValueError",
     "evalue": "cannot convert float NaN to integer",
     "output_type": "error",
     "traceback": [
      "\u001b[0;31m---------------------------------------------------------------------------\u001b[0m",
      "\u001b[0;31mValueError\u001b[0m                                Traceback (most recent call last)",
      "\u001b[0;32m<ipython-input-138-44c3bc408605>\u001b[0m in \u001b[0;36m<module>\u001b[0;34m\u001b[0m\n\u001b[0;32m----> 1\u001b[0;31m \u001b[0mdf\u001b[0m\u001b[0;34m[\u001b[0m\u001b[0;34m\"Heifers R3 (Ire)\"\u001b[0m\u001b[0;34m]\u001b[0m\u001b[0;34m.\u001b[0m\u001b[0mastype\u001b[0m\u001b[0;34m(\u001b[0m\u001b[0mint\u001b[0m\u001b[0;34m)\u001b[0m\u001b[0;34m\u001b[0m\u001b[0;34m\u001b[0m\u001b[0m\n\u001b[0m",
      "\u001b[0;32m~/opt/anaconda3/lib/python3.8/site-packages/pandas/core/generic.py\u001b[0m in \u001b[0;36mastype\u001b[0;34m(self, dtype, copy, errors)\u001b[0m\n\u001b[1;32m   5875\u001b[0m         \u001b[0;32melse\u001b[0m\u001b[0;34m:\u001b[0m\u001b[0;34m\u001b[0m\u001b[0;34m\u001b[0m\u001b[0m\n\u001b[1;32m   5876\u001b[0m             \u001b[0;31m# else, only a single dtype is given\u001b[0m\u001b[0;34m\u001b[0m\u001b[0;34m\u001b[0m\u001b[0;34m\u001b[0m\u001b[0m\n\u001b[0;32m-> 5877\u001b[0;31m             \u001b[0mnew_data\u001b[0m \u001b[0;34m=\u001b[0m \u001b[0mself\u001b[0m\u001b[0;34m.\u001b[0m\u001b[0m_mgr\u001b[0m\u001b[0;34m.\u001b[0m\u001b[0mastype\u001b[0m\u001b[0;34m(\u001b[0m\u001b[0mdtype\u001b[0m\u001b[0;34m=\u001b[0m\u001b[0mdtype\u001b[0m\u001b[0;34m,\u001b[0m \u001b[0mcopy\u001b[0m\u001b[0;34m=\u001b[0m\u001b[0mcopy\u001b[0m\u001b[0;34m,\u001b[0m \u001b[0merrors\u001b[0m\u001b[0;34m=\u001b[0m\u001b[0merrors\u001b[0m\u001b[0;34m)\u001b[0m\u001b[0;34m\u001b[0m\u001b[0;34m\u001b[0m\u001b[0m\n\u001b[0m\u001b[1;32m   5878\u001b[0m             \u001b[0;32mreturn\u001b[0m \u001b[0mself\u001b[0m\u001b[0;34m.\u001b[0m\u001b[0m_constructor\u001b[0m\u001b[0;34m(\u001b[0m\u001b[0mnew_data\u001b[0m\u001b[0;34m)\u001b[0m\u001b[0;34m.\u001b[0m\u001b[0m__finalize__\u001b[0m\u001b[0;34m(\u001b[0m\u001b[0mself\u001b[0m\u001b[0;34m,\u001b[0m \u001b[0mmethod\u001b[0m\u001b[0;34m=\u001b[0m\u001b[0;34m\"astype\"\u001b[0m\u001b[0;34m)\u001b[0m\u001b[0;34m\u001b[0m\u001b[0;34m\u001b[0m\u001b[0m\n\u001b[1;32m   5879\u001b[0m \u001b[0;34m\u001b[0m\u001b[0m\n",
      "\u001b[0;32m~/opt/anaconda3/lib/python3.8/site-packages/pandas/core/internals/managers.py\u001b[0m in \u001b[0;36mastype\u001b[0;34m(self, dtype, copy, errors)\u001b[0m\n\u001b[1;32m    629\u001b[0m         \u001b[0mself\u001b[0m\u001b[0;34m,\u001b[0m \u001b[0mdtype\u001b[0m\u001b[0;34m,\u001b[0m \u001b[0mcopy\u001b[0m\u001b[0;34m:\u001b[0m \u001b[0mbool\u001b[0m \u001b[0;34m=\u001b[0m \u001b[0;32mFalse\u001b[0m\u001b[0;34m,\u001b[0m \u001b[0merrors\u001b[0m\u001b[0;34m:\u001b[0m \u001b[0mstr\u001b[0m \u001b[0;34m=\u001b[0m \u001b[0;34m\"raise\"\u001b[0m\u001b[0;34m\u001b[0m\u001b[0;34m\u001b[0m\u001b[0m\n\u001b[1;32m    630\u001b[0m     ) -> \"BlockManager\":\n\u001b[0;32m--> 631\u001b[0;31m         \u001b[0;32mreturn\u001b[0m \u001b[0mself\u001b[0m\u001b[0;34m.\u001b[0m\u001b[0mapply\u001b[0m\u001b[0;34m(\u001b[0m\u001b[0;34m\"astype\"\u001b[0m\u001b[0;34m,\u001b[0m \u001b[0mdtype\u001b[0m\u001b[0;34m=\u001b[0m\u001b[0mdtype\u001b[0m\u001b[0;34m,\u001b[0m \u001b[0mcopy\u001b[0m\u001b[0;34m=\u001b[0m\u001b[0mcopy\u001b[0m\u001b[0;34m,\u001b[0m \u001b[0merrors\u001b[0m\u001b[0;34m=\u001b[0m\u001b[0merrors\u001b[0m\u001b[0;34m)\u001b[0m\u001b[0;34m\u001b[0m\u001b[0;34m\u001b[0m\u001b[0m\n\u001b[0m\u001b[1;32m    632\u001b[0m \u001b[0;34m\u001b[0m\u001b[0m\n\u001b[1;32m    633\u001b[0m     def convert(\n",
      "\u001b[0;32m~/opt/anaconda3/lib/python3.8/site-packages/pandas/core/internals/managers.py\u001b[0m in \u001b[0;36mapply\u001b[0;34m(self, f, align_keys, ignore_failures, **kwargs)\u001b[0m\n\u001b[1;32m    425\u001b[0m                     \u001b[0mapplied\u001b[0m \u001b[0;34m=\u001b[0m \u001b[0mb\u001b[0m\u001b[0;34m.\u001b[0m\u001b[0mapply\u001b[0m\u001b[0;34m(\u001b[0m\u001b[0mf\u001b[0m\u001b[0;34m,\u001b[0m \u001b[0;34m**\u001b[0m\u001b[0mkwargs\u001b[0m\u001b[0;34m)\u001b[0m\u001b[0;34m\u001b[0m\u001b[0;34m\u001b[0m\u001b[0m\n\u001b[1;32m    426\u001b[0m                 \u001b[0;32melse\u001b[0m\u001b[0;34m:\u001b[0m\u001b[0;34m\u001b[0m\u001b[0;34m\u001b[0m\u001b[0m\n\u001b[0;32m--> 427\u001b[0;31m                     \u001b[0mapplied\u001b[0m \u001b[0;34m=\u001b[0m \u001b[0mgetattr\u001b[0m\u001b[0;34m(\u001b[0m\u001b[0mb\u001b[0m\u001b[0;34m,\u001b[0m \u001b[0mf\u001b[0m\u001b[0;34m)\u001b[0m\u001b[0;34m(\u001b[0m\u001b[0;34m**\u001b[0m\u001b[0mkwargs\u001b[0m\u001b[0;34m)\u001b[0m\u001b[0;34m\u001b[0m\u001b[0;34m\u001b[0m\u001b[0m\n\u001b[0m\u001b[1;32m    428\u001b[0m             \u001b[0;32mexcept\u001b[0m \u001b[0;34m(\u001b[0m\u001b[0mTypeError\u001b[0m\u001b[0;34m,\u001b[0m \u001b[0mNotImplementedError\u001b[0m\u001b[0;34m)\u001b[0m\u001b[0;34m:\u001b[0m\u001b[0;34m\u001b[0m\u001b[0;34m\u001b[0m\u001b[0m\n\u001b[1;32m    429\u001b[0m                 \u001b[0;32mif\u001b[0m \u001b[0;32mnot\u001b[0m \u001b[0mignore_failures\u001b[0m\u001b[0;34m:\u001b[0m\u001b[0;34m\u001b[0m\u001b[0;34m\u001b[0m\u001b[0m\n",
      "\u001b[0;32m~/opt/anaconda3/lib/python3.8/site-packages/pandas/core/internals/blocks.py\u001b[0m in \u001b[0;36mastype\u001b[0;34m(self, dtype, copy, errors)\u001b[0m\n\u001b[1;32m    671\u001b[0m             \u001b[0mvals1d\u001b[0m \u001b[0;34m=\u001b[0m \u001b[0mvalues\u001b[0m\u001b[0;34m.\u001b[0m\u001b[0mravel\u001b[0m\u001b[0;34m(\u001b[0m\u001b[0;34m)\u001b[0m\u001b[0;34m\u001b[0m\u001b[0;34m\u001b[0m\u001b[0m\n\u001b[1;32m    672\u001b[0m             \u001b[0;32mtry\u001b[0m\u001b[0;34m:\u001b[0m\u001b[0;34m\u001b[0m\u001b[0;34m\u001b[0m\u001b[0m\n\u001b[0;32m--> 673\u001b[0;31m                 \u001b[0mvalues\u001b[0m \u001b[0;34m=\u001b[0m \u001b[0mastype_nansafe\u001b[0m\u001b[0;34m(\u001b[0m\u001b[0mvals1d\u001b[0m\u001b[0;34m,\u001b[0m \u001b[0mdtype\u001b[0m\u001b[0;34m,\u001b[0m \u001b[0mcopy\u001b[0m\u001b[0;34m=\u001b[0m\u001b[0;32mTrue\u001b[0m\u001b[0;34m)\u001b[0m\u001b[0;34m\u001b[0m\u001b[0;34m\u001b[0m\u001b[0m\n\u001b[0m\u001b[1;32m    674\u001b[0m             \u001b[0;32mexcept\u001b[0m \u001b[0;34m(\u001b[0m\u001b[0mValueError\u001b[0m\u001b[0;34m,\u001b[0m \u001b[0mTypeError\u001b[0m\u001b[0;34m)\u001b[0m\u001b[0;34m:\u001b[0m\u001b[0;34m\u001b[0m\u001b[0;34m\u001b[0m\u001b[0m\n\u001b[1;32m    675\u001b[0m                 \u001b[0;31m# e.g. astype_nansafe can fail on object-dtype of strings\u001b[0m\u001b[0;34m\u001b[0m\u001b[0;34m\u001b[0m\u001b[0;34m\u001b[0m\u001b[0m\n",
      "\u001b[0;32m~/opt/anaconda3/lib/python3.8/site-packages/pandas/core/dtypes/cast.py\u001b[0m in \u001b[0;36mastype_nansafe\u001b[0;34m(arr, dtype, copy, skipna)\u001b[0m\n\u001b[1;32m   1072\u001b[0m         \u001b[0;31m# work around NumPy brokenness, #1987\u001b[0m\u001b[0;34m\u001b[0m\u001b[0;34m\u001b[0m\u001b[0;34m\u001b[0m\u001b[0m\n\u001b[1;32m   1073\u001b[0m         \u001b[0;32mif\u001b[0m \u001b[0mnp\u001b[0m\u001b[0;34m.\u001b[0m\u001b[0missubdtype\u001b[0m\u001b[0;34m(\u001b[0m\u001b[0mdtype\u001b[0m\u001b[0;34m.\u001b[0m\u001b[0mtype\u001b[0m\u001b[0;34m,\u001b[0m \u001b[0mnp\u001b[0m\u001b[0;34m.\u001b[0m\u001b[0minteger\u001b[0m\u001b[0;34m)\u001b[0m\u001b[0;34m:\u001b[0m\u001b[0;34m\u001b[0m\u001b[0;34m\u001b[0m\u001b[0m\n\u001b[0;32m-> 1074\u001b[0;31m             \u001b[0;32mreturn\u001b[0m \u001b[0mlib\u001b[0m\u001b[0;34m.\u001b[0m\u001b[0mastype_intsafe\u001b[0m\u001b[0;34m(\u001b[0m\u001b[0marr\u001b[0m\u001b[0;34m.\u001b[0m\u001b[0mravel\u001b[0m\u001b[0;34m(\u001b[0m\u001b[0;34m)\u001b[0m\u001b[0;34m,\u001b[0m \u001b[0mdtype\u001b[0m\u001b[0;34m)\u001b[0m\u001b[0;34m.\u001b[0m\u001b[0mreshape\u001b[0m\u001b[0;34m(\u001b[0m\u001b[0marr\u001b[0m\u001b[0;34m.\u001b[0m\u001b[0mshape\u001b[0m\u001b[0;34m)\u001b[0m\u001b[0;34m\u001b[0m\u001b[0;34m\u001b[0m\u001b[0m\n\u001b[0m\u001b[1;32m   1075\u001b[0m \u001b[0;34m\u001b[0m\u001b[0m\n\u001b[1;32m   1076\u001b[0m         \u001b[0;31m# if we have a datetime/timedelta array of objects\u001b[0m\u001b[0;34m\u001b[0m\u001b[0;34m\u001b[0m\u001b[0;34m\u001b[0m\u001b[0m\n",
      "\u001b[0;32mpandas/_libs/lib.pyx\u001b[0m in \u001b[0;36mpandas._libs.lib.astype_intsafe\u001b[0;34m()\u001b[0m\n",
      "\u001b[0;31mValueError\u001b[0m: cannot convert float NaN to integer"
     ]
    }
   ],
   "source": [
    "df[\"Heifers R3 (Ire)\"].astype(int)"
   ]
  },
  {
   "cell_type": "code",
   "execution_count": 141,
   "id": "577ecd5d",
   "metadata": {},
   "outputs": [
    {
     "name": "stdout",
     "output_type": "stream",
     "text": [
      "Date                   0\n",
      "Bulls R3 (Ire)         0\n",
      "Cows O2 (Ire)          0\n",
      "Cows O3 (Ire)          0\n",
      "Cows O4 (Ire)          0\n",
      "                      ..\n",
      "Young Bulls O3 (NI)    0\n",
      "Young Bulls R2 (NI)    0\n",
      "Young Bulls R3 (NI)    0\n",
      "Young Bulls U2 (NI)    0\n",
      "Young Bulls U3 (NI)    0\n",
      "Length: 88, dtype: int64\n"
     ]
    }
   ],
   "source": [
    "print(df_1.isnull().sum())"
   ]
  },
  {
   "cell_type": "code",
   "execution_count": null,
   "id": "ba9d9f2f",
   "metadata": {},
   "outputs": [],
   "source": []
  }
 ],
 "metadata": {
  "kernelspec": {
   "display_name": "Python 3",
   "language": "python",
   "name": "python3"
  },
  "language_info": {
   "codemirror_mode": {
    "name": "ipython",
    "version": 3
   },
   "file_extension": ".py",
   "mimetype": "text/x-python",
   "name": "python",
   "nbconvert_exporter": "python",
   "pygments_lexer": "ipython3",
   "version": "3.8.8"
  }
 },
 "nbformat": 4,
 "nbformat_minor": 5
}
