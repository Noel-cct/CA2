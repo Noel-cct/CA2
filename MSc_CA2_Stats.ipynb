{
 "cells": [
  {
   "cell_type": "code",
   "execution_count": 1,
   "id": "2e38b90e",
   "metadata": {},
   "outputs": [],
   "source": [
    "##IMPORTING LIBRARIES\n",
    "import pandas as pd\n",
    "import statistics as stats\n",
    "import seaborn as sns #visualisation\n",
    "import numpy as np\n",
    "import matplotlib.pyplot as plt\n",
    "import statsmodels.api as sm\n",
    "from statsmodels.formula.api import ols\n",
    "from scipy import stats\n",
    "import scipy as scipy"
   ]
  },
  {
   "cell_type": "code",
   "execution_count": 2,
   "id": "76c474f0",
   "metadata": {},
   "outputs": [],
   "source": [
    "#read excel file as dataframe\n",
    "df_ire = pd.read_excel('/Users/Noel/Documents/MSc_CA2/ireland-cattle-prices.xlsx')"
   ]
  },
  {
   "cell_type": "code",
   "execution_count": 3,
   "id": "66a28d7c",
   "metadata": {},
   "outputs": [],
   "source": [
    "df_GB = pd.read_excel('/Users/Noel/Documents/MSc_CA2/gt.-britain-cattle-prices.xlsx')"
   ]
  },
  {
   "cell_type": "code",
   "execution_count": 8,
   "id": "fb2f21a1",
   "metadata": {},
   "outputs": [],
   "source": [
    "df_NI = pd.read_excel('/Users/Noel/Documents/MSc_CA2/n.ireland-cattle-prices.xlsx')"
   ]
  },
  {
   "cell_type": "code",
   "execution_count": 5,
   "id": "c10655c2",
   "metadata": {},
   "outputs": [
    {
     "data": {
      "text/html": [
       "<div>\n",
       "<style scoped>\n",
       "    .dataframe tbody tr th:only-of-type {\n",
       "        vertical-align: middle;\n",
       "    }\n",
       "\n",
       "    .dataframe tbody tr th {\n",
       "        vertical-align: top;\n",
       "    }\n",
       "\n",
       "    .dataframe thead th {\n",
       "        text-align: right;\n",
       "    }\n",
       "</style>\n",
       "<table border=\"1\" class=\"dataframe\">\n",
       "  <thead>\n",
       "    <tr style=\"text-align: right;\">\n",
       "      <th></th>\n",
       "      <th>Date</th>\n",
       "      <th>Bulls R3 (Ire)</th>\n",
       "      <th>Cows O2 (Ire)</th>\n",
       "      <th>Cows O3 (Ire)</th>\n",
       "      <th>Cows O4 (Ire)</th>\n",
       "      <th>Cows P2 (Ire)</th>\n",
       "      <th>Cows P3 (Ire)</th>\n",
       "      <th>Cows R2 (lre)</th>\n",
       "      <th>Cows R3 (Ire)</th>\n",
       "      <th>Cows R4 (Ire)</th>\n",
       "      <th>...</th>\n",
       "      <th>Steers R4 (Ire)</th>\n",
       "      <th>Steers U2 (Ire)</th>\n",
       "      <th>Steers U3 (Ire)</th>\n",
       "      <th>Steers U4 (Ire)</th>\n",
       "      <th>Young Bulls O2 (Ire)</th>\n",
       "      <th>Young Bulls O3 (Ire)</th>\n",
       "      <th>Young Bulls R2 (Ire)</th>\n",
       "      <th>Young Bulls R3 (Ire)</th>\n",
       "      <th>Young Bulls U2 (Ire)</th>\n",
       "      <th>Young Bulls U3 (Ire)</th>\n",
       "    </tr>\n",
       "  </thead>\n",
       "  <tbody>\n",
       "    <tr>\n",
       "      <th>0</th>\n",
       "      <td>2019-10-28</td>\n",
       "      <td>241.6</td>\n",
       "      <td>255.0</td>\n",
       "      <td>259.2</td>\n",
       "      <td>259.7</td>\n",
       "      <td>228.6</td>\n",
       "      <td>247.7</td>\n",
       "      <td>NaN</td>\n",
       "      <td>279.6</td>\n",
       "      <td>279.3</td>\n",
       "      <td>...</td>\n",
       "      <td>341.3</td>\n",
       "      <td>347.9</td>\n",
       "      <td>352.5</td>\n",
       "      <td>347.3</td>\n",
       "      <td>299.0</td>\n",
       "      <td>303.8</td>\n",
       "      <td>321.6</td>\n",
       "      <td>320.5</td>\n",
       "      <td>330.2</td>\n",
       "      <td>329.8</td>\n",
       "    </tr>\n",
       "    <tr>\n",
       "      <th>1</th>\n",
       "      <td>2019-10-14</td>\n",
       "      <td>239.9</td>\n",
       "      <td>264.6</td>\n",
       "      <td>268.3</td>\n",
       "      <td>268.5</td>\n",
       "      <td>235.1</td>\n",
       "      <td>256.0</td>\n",
       "      <td>NaN</td>\n",
       "      <td>288.9</td>\n",
       "      <td>288.0</td>\n",
       "      <td>...</td>\n",
       "      <td>342.1</td>\n",
       "      <td>350.7</td>\n",
       "      <td>353.7</td>\n",
       "      <td>349.1</td>\n",
       "      <td>300.9</td>\n",
       "      <td>305.3</td>\n",
       "      <td>323.7</td>\n",
       "      <td>322.3</td>\n",
       "      <td>332.8</td>\n",
       "      <td>332.3</td>\n",
       "    </tr>\n",
       "    <tr>\n",
       "      <th>2</th>\n",
       "      <td>2019-10-07</td>\n",
       "      <td>248.3</td>\n",
       "      <td>270.1</td>\n",
       "      <td>274.2</td>\n",
       "      <td>274.6</td>\n",
       "      <td>242.9</td>\n",
       "      <td>262.0</td>\n",
       "      <td>NaN</td>\n",
       "      <td>296.1</td>\n",
       "      <td>293.7</td>\n",
       "      <td>...</td>\n",
       "      <td>343.9</td>\n",
       "      <td>349.8</td>\n",
       "      <td>353.3</td>\n",
       "      <td>350.4</td>\n",
       "      <td>301.1</td>\n",
       "      <td>306.4</td>\n",
       "      <td>325.7</td>\n",
       "      <td>323.4</td>\n",
       "      <td>337.0</td>\n",
       "      <td>334.6</td>\n",
       "    </tr>\n",
       "    <tr>\n",
       "      <th>3</th>\n",
       "      <td>2019-09-30</td>\n",
       "      <td>253.0</td>\n",
       "      <td>277.9</td>\n",
       "      <td>279.9</td>\n",
       "      <td>278.4</td>\n",
       "      <td>252.7</td>\n",
       "      <td>267.1</td>\n",
       "      <td>NaN</td>\n",
       "      <td>298.4</td>\n",
       "      <td>297.1</td>\n",
       "      <td>...</td>\n",
       "      <td>344.3</td>\n",
       "      <td>351.7</td>\n",
       "      <td>356.2</td>\n",
       "      <td>354.0</td>\n",
       "      <td>305.6</td>\n",
       "      <td>309.9</td>\n",
       "      <td>327.5</td>\n",
       "      <td>327.7</td>\n",
       "      <td>336.7</td>\n",
       "      <td>337.1</td>\n",
       "    </tr>\n",
       "    <tr>\n",
       "      <th>4</th>\n",
       "      <td>2019-09-16</td>\n",
       "      <td>264.2</td>\n",
       "      <td>283.3</td>\n",
       "      <td>283.9</td>\n",
       "      <td>282.5</td>\n",
       "      <td>257.2</td>\n",
       "      <td>272.6</td>\n",
       "      <td>NaN</td>\n",
       "      <td>302.0</td>\n",
       "      <td>300.1</td>\n",
       "      <td>...</td>\n",
       "      <td>338.1</td>\n",
       "      <td>344.8</td>\n",
       "      <td>347.7</td>\n",
       "      <td>344.1</td>\n",
       "      <td>301.5</td>\n",
       "      <td>309.4</td>\n",
       "      <td>322.0</td>\n",
       "      <td>321.5</td>\n",
       "      <td>328.8</td>\n",
       "      <td>327.8</td>\n",
       "    </tr>\n",
       "  </tbody>\n",
       "</table>\n",
       "<p>5 rows × 31 columns</p>\n",
       "</div>"
      ],
      "text/plain": [
       "        Date  Bulls R3 (Ire)  Cows O2 (Ire)  Cows O3 (Ire)  Cows O4 (Ire)  \\\n",
       "0 2019-10-28           241.6          255.0          259.2          259.7   \n",
       "1 2019-10-14           239.9          264.6          268.3          268.5   \n",
       "2 2019-10-07           248.3          270.1          274.2          274.6   \n",
       "3 2019-09-30           253.0          277.9          279.9          278.4   \n",
       "4 2019-09-16           264.2          283.3          283.9          282.5   \n",
       "\n",
       "   Cows P2 (Ire)  Cows P3 (Ire)  Cows R2 (lre)  Cows R3 (Ire)  Cows R4 (Ire)  \\\n",
       "0          228.6          247.7            NaN          279.6          279.3   \n",
       "1          235.1          256.0            NaN          288.9          288.0   \n",
       "2          242.9          262.0            NaN          296.1          293.7   \n",
       "3          252.7          267.1            NaN          298.4          297.1   \n",
       "4          257.2          272.6            NaN          302.0          300.1   \n",
       "\n",
       "   ...  Steers R4 (Ire)  Steers U2 (Ire)  Steers U3 (Ire)  Steers U4 (Ire)  \\\n",
       "0  ...            341.3            347.9            352.5            347.3   \n",
       "1  ...            342.1            350.7            353.7            349.1   \n",
       "2  ...            343.9            349.8            353.3            350.4   \n",
       "3  ...            344.3            351.7            356.2            354.0   \n",
       "4  ...            338.1            344.8            347.7            344.1   \n",
       "\n",
       "   Young Bulls O2 (Ire)  Young Bulls O3 (Ire)  Young Bulls R2 (Ire)  \\\n",
       "0                 299.0                 303.8                 321.6   \n",
       "1                 300.9                 305.3                 323.7   \n",
       "2                 301.1                 306.4                 325.7   \n",
       "3                 305.6                 309.9                 327.5   \n",
       "4                 301.5                 309.4                 322.0   \n",
       "\n",
       "   Young Bulls R3 (Ire)  Young Bulls U2 (Ire)  Young Bulls U3 (Ire)  \n",
       "0                 320.5                 330.2                 329.8  \n",
       "1                 322.3                 332.8                 332.3  \n",
       "2                 323.4                 337.0                 334.6  \n",
       "3                 327.7                 336.7                 337.1  \n",
       "4                 321.5                 328.8                 327.8  \n",
       "\n",
       "[5 rows x 31 columns]"
      ]
     },
     "execution_count": 5,
     "metadata": {},
     "output_type": "execute_result"
    }
   ],
   "source": [
    "df_ire.head()"
   ]
  },
  {
   "cell_type": "code",
   "execution_count": 6,
   "id": "3b616d55",
   "metadata": {},
   "outputs": [],
   "source": [
    "concatenated = pd.concat([df_ire, df_GB], axis=1)"
   ]
  },
  {
   "cell_type": "code",
   "execution_count": 9,
   "id": "6601ec58",
   "metadata": {},
   "outputs": [],
   "source": [
    "df = pd.concat([concatenated, df_NI], axis=1)"
   ]
  },
  {
   "cell_type": "code",
   "execution_count": 10,
   "id": "4781e464",
   "metadata": {},
   "outputs": [
    {
     "data": {
      "text/plain": [
       "(250, 93)"
      ]
     },
     "execution_count": 10,
     "metadata": {},
     "output_type": "execute_result"
    }
   ],
   "source": [
    "df.shape"
   ]
  },
  {
   "cell_type": "code",
   "execution_count": 12,
   "id": "c26af9e4",
   "metadata": {},
   "outputs": [
    {
     "name": "stdout",
     "output_type": "stream",
     "text": [
      "Date                      0\n",
      "Bulls R3 (Ire)            0\n",
      "Cows O2 (Ire)             0\n",
      "Cows O3 (Ire)             0\n",
      "Cows O4 (Ire)             0\n",
      "Cows P2 (Ire)             0\n",
      "Cows P3 (Ire)             0\n",
      "Cows R2 (lre)           248\n",
      "Cows R3 (Ire)             0\n",
      "Cows R4 (Ire)             0\n",
      "Heifers O2 (Ire)          1\n",
      "Heifers O3 (Ire)          1\n",
      "Heifers O4 (Ire)          0\n",
      "Heifers R2 (Ire)          1\n",
      "Heifers R3 (Ire)          1\n",
      "Heifers R4 (Ire)          1\n",
      "Heifers U2 (Ire)          1\n",
      "Heifers U3 (Ire)          1\n",
      "Steers O3 (Ire)           2\n",
      "Steers O4 (Ire)           0\n",
      "Steers R3 (Ire)           0\n",
      "Steers R4 (Ire)           0\n",
      "Steers U2 (Ire)           0\n",
      "Steers U3 (Ire)           0\n",
      "Steers U4 (Ire)           0\n",
      "Young Bulls O2 (Ire)      0\n",
      "Young Bulls O3 (Ire)      0\n",
      "Young Bulls R2 (Ire)      0\n",
      "Young Bulls R3 (Ire)      0\n",
      "Young Bulls U2 (Ire)      1\n",
      "Young Bulls U3 (Ire)      0\n",
      "dtype: int64\n"
     ]
    }
   ],
   "source": [
    "print(df_ire.isnull().sum())"
   ]
  },
  {
   "cell_type": "code",
   "execution_count": 13,
   "id": "b4f9788f",
   "metadata": {},
   "outputs": [
    {
     "name": "stdout",
     "output_type": "stream",
     "text": [
      "Date                     0\n",
      "Bulls R3 (GB)          250\n",
      "Cows O2 (GB)             0\n",
      "Cows O3 (GB)             0\n",
      "Cows O4 (GB)             0\n",
      "Cows P2 (GB)             1\n",
      "Cows P3 (GB)             0\n",
      "Cows R2 (GB)           128\n",
      "Cows R3 (GB)             1\n",
      "Cows R4 (GB)             0\n",
      "Heifers O2 (GB)          0\n",
      "Heifers O3 (GB)          1\n",
      "Heifers O4 (GB)          0\n",
      "Heifers R2 (GB)          0\n",
      "Heifers R3 (GB)          0\n",
      "Heifers R4 (GB)          0\n",
      "Heifers U2 (GB)          2\n",
      "Heifers U3 (GB)          0\n",
      "Steers O3 (GB)           0\n",
      "Steers O4 (GB)           1\n",
      "Steers R3 (GB)           0\n",
      "Steers R4 (GB)           0\n",
      "Steers U2 (GB)           1\n",
      "Steers U3 (GB)           0\n",
      "Steers U4 (GB)           0\n",
      "Young Bulls O2 (GB)      1\n",
      "Young Bulls O3 (GB)      1\n",
      "Young Bulls R2 (GB)      1\n",
      "Young Bulls R3 (GB)      0\n",
      "Young Bulls U2 (GB)      1\n",
      "Young Bulls U3 (GB)      1\n",
      "dtype: int64\n"
     ]
    }
   ],
   "source": [
    "print(df_GB.isnull().sum())"
   ]
  },
  {
   "cell_type": "code",
   "execution_count": 14,
   "id": "a7b7e6af",
   "metadata": {},
   "outputs": [
    {
     "name": "stdout",
     "output_type": "stream",
     "text": [
      "Date                     0\n",
      "Bulls R3 (NI)          250\n",
      "Cows O2 (NI)             0\n",
      "Cows O3 (NI)             0\n",
      "Cows O4 (NI)             0\n",
      "Cows P2 (NI)             1\n",
      "Cows P3 (NI)             0\n",
      "Cows R2 (NI)           245\n",
      "Cows R3 (NI)             0\n",
      "Cows R4 (NI)             0\n",
      "Heifers O2 (NI)          0\n",
      "Heifers O3 (NI)          1\n",
      "Heifers O4 (NI)          0\n",
      "Heifers R2 (NI)          0\n",
      "Heifers R3 (NI)          0\n",
      "Heifers R4 (NI)          0\n",
      "Heifers U2 (NI)          2\n",
      "Heifers U3 (NI)          0\n",
      "Steers O3 (NI)           0\n",
      "Steers O4 (NI)           1\n",
      "Steers R3 (NI)           0\n",
      "Steers R4 (NI)           0\n",
      "Steers U2 (NI)           1\n",
      "Steers U3 (NI)           0\n",
      "Steers U4 (NI)           0\n",
      "Young Bulls O2 (NI)      2\n",
      "Young Bulls O3 (NI)      1\n",
      "Young Bulls R2 (NI)      1\n",
      "Young Bulls R3 (NI)      1\n",
      "Young Bulls U2 (NI)      3\n",
      "Young Bulls U3 (NI)      1\n",
      "dtype: int64\n"
     ]
    }
   ],
   "source": [
    "print(df_NI.isnull().sum())"
   ]
  },
  {
   "cell_type": "code",
   "execution_count": 15,
   "id": "7e3ea9ac",
   "metadata": {},
   "outputs": [],
   "source": [
    "#dropping columns that are mostly empty\n",
    "to_drop = ['Cows R2 (lre)','Bulls R3 (GB)','Cows R2 (GB)','Bulls R3 (NI)', 'Cows R2 (NI)' ]"
   ]
  },
  {
   "cell_type": "code",
   "execution_count": 16,
   "id": "cf7b7a7e",
   "metadata": {},
   "outputs": [],
   "source": [
    "df.drop(to_drop, inplace=True, axis=1)"
   ]
  },
  {
   "cell_type": "code",
   "execution_count": 17,
   "id": "8a93b55e",
   "metadata": {},
   "outputs": [
    {
     "data": {
      "text/plain": [
       "(250, 88)"
      ]
     },
     "execution_count": 17,
     "metadata": {},
     "output_type": "execute_result"
    }
   ],
   "source": [
    "df.shape"
   ]
  },
  {
   "cell_type": "code",
   "execution_count": 18,
   "id": "1ce64605",
   "metadata": {},
   "outputs": [],
   "source": [
    "df = df.dropna(how='any',axis=0) "
   ]
  },
  {
   "cell_type": "code",
   "execution_count": 19,
   "id": "e8c2d701",
   "metadata": {},
   "outputs": [
    {
     "data": {
      "text/plain": [
       "(242, 88)"
      ]
     },
     "execution_count": 19,
     "metadata": {},
     "output_type": "execute_result"
    }
   ],
   "source": [
    "df.shape"
   ]
  },
  {
   "cell_type": "code",
   "execution_count": 20,
   "id": "038c1406",
   "metadata": {},
   "outputs": [
    {
     "data": {
      "text/html": [
       "<div>\n",
       "<style scoped>\n",
       "    .dataframe tbody tr th:only-of-type {\n",
       "        vertical-align: middle;\n",
       "    }\n",
       "\n",
       "    .dataframe tbody tr th {\n",
       "        vertical-align: top;\n",
       "    }\n",
       "\n",
       "    .dataframe thead th {\n",
       "        text-align: right;\n",
       "    }\n",
       "</style>\n",
       "<table border=\"1\" class=\"dataframe\">\n",
       "  <thead>\n",
       "    <tr style=\"text-align: right;\">\n",
       "      <th></th>\n",
       "      <th>Date</th>\n",
       "      <th>Date</th>\n",
       "      <th>Date</th>\n",
       "    </tr>\n",
       "  </thead>\n",
       "  <tbody>\n",
       "    <tr>\n",
       "      <th>0</th>\n",
       "      <td>2019-10-28</td>\n",
       "      <td>2019-10-28</td>\n",
       "      <td>2019-10-28</td>\n",
       "    </tr>\n",
       "    <tr>\n",
       "      <th>1</th>\n",
       "      <td>2019-10-14</td>\n",
       "      <td>2019-10-14</td>\n",
       "      <td>2019-10-14</td>\n",
       "    </tr>\n",
       "    <tr>\n",
       "      <th>2</th>\n",
       "      <td>2019-10-07</td>\n",
       "      <td>2019-10-07</td>\n",
       "      <td>2019-10-07</td>\n",
       "    </tr>\n",
       "    <tr>\n",
       "      <th>3</th>\n",
       "      <td>2019-09-30</td>\n",
       "      <td>2019-09-30</td>\n",
       "      <td>2019-09-30</td>\n",
       "    </tr>\n",
       "    <tr>\n",
       "      <th>4</th>\n",
       "      <td>2019-09-16</td>\n",
       "      <td>2019-09-16</td>\n",
       "      <td>2019-09-16</td>\n",
       "    </tr>\n",
       "    <tr>\n",
       "      <th>...</th>\n",
       "      <td>...</td>\n",
       "      <td>...</td>\n",
       "      <td>...</td>\n",
       "    </tr>\n",
       "    <tr>\n",
       "      <th>245</th>\n",
       "      <td>2015-01-05</td>\n",
       "      <td>2015-01-05</td>\n",
       "      <td>2015-01-05</td>\n",
       "    </tr>\n",
       "    <tr>\n",
       "      <th>246</th>\n",
       "      <td>2014-12-29</td>\n",
       "      <td>2014-12-29</td>\n",
       "      <td>2014-12-29</td>\n",
       "    </tr>\n",
       "    <tr>\n",
       "      <th>247</th>\n",
       "      <td>2014-12-22</td>\n",
       "      <td>2014-12-22</td>\n",
       "      <td>2014-12-22</td>\n",
       "    </tr>\n",
       "    <tr>\n",
       "      <th>248</th>\n",
       "      <td>2014-12-15</td>\n",
       "      <td>2014-12-15</td>\n",
       "      <td>2014-12-15</td>\n",
       "    </tr>\n",
       "    <tr>\n",
       "      <th>249</th>\n",
       "      <td>2014-12-08</td>\n",
       "      <td>2014-12-08</td>\n",
       "      <td>2014-12-08</td>\n",
       "    </tr>\n",
       "  </tbody>\n",
       "</table>\n",
       "<p>242 rows × 3 columns</p>\n",
       "</div>"
      ],
      "text/plain": [
       "          Date       Date       Date\n",
       "0   2019-10-28 2019-10-28 2019-10-28\n",
       "1   2019-10-14 2019-10-14 2019-10-14\n",
       "2   2019-10-07 2019-10-07 2019-10-07\n",
       "3   2019-09-30 2019-09-30 2019-09-30\n",
       "4   2019-09-16 2019-09-16 2019-09-16\n",
       "..         ...        ...        ...\n",
       "245 2015-01-05 2015-01-05 2015-01-05\n",
       "246 2014-12-29 2014-12-29 2014-12-29\n",
       "247 2014-12-22 2014-12-22 2014-12-22\n",
       "248 2014-12-15 2014-12-15 2014-12-15\n",
       "249 2014-12-08 2014-12-08 2014-12-08\n",
       "\n",
       "[242 rows x 3 columns]"
      ]
     },
     "execution_count": 20,
     "metadata": {},
     "output_type": "execute_result"
    }
   ],
   "source": [
    "df[\"Date\"]"
   ]
  },
  {
   "cell_type": "code",
   "execution_count": 22,
   "id": "49b23019",
   "metadata": {},
   "outputs": [],
   "source": [
    "#drop duplicate date columns\n",
    "df=df.T.drop_duplicates().T"
   ]
  },
  {
   "cell_type": "code",
   "execution_count": 23,
   "id": "86dd382d",
   "metadata": {},
   "outputs": [
    {
     "data": {
      "text/plain": [
       "(242, 86)"
      ]
     },
     "execution_count": 23,
     "metadata": {},
     "output_type": "execute_result"
    }
   ],
   "source": [
    "df.shape"
   ]
  },
  {
   "cell_type": "code",
   "execution_count": 24,
   "id": "fae0072a",
   "metadata": {},
   "outputs": [],
   "source": [
    "#adding month column and year column\n",
    "df['month'] = pd.DatetimeIndex(df['Date']).month\n",
    "df['year'] = pd.DatetimeIndex(df['Date']).year"
   ]
  },
  {
   "cell_type": "code",
   "execution_count": 25,
   "id": "a952a379",
   "metadata": {},
   "outputs": [],
   "source": [
    "df_2019 = df.loc[df['year'].isin([2019])]\n",
    "df_2018 = df.loc[df['year'].isin([2018])]\n",
    "df_2017 = df.loc[df['year'].isin([2017])]\n",
    "df_2016 = df.loc[df['year'].isin([2016])]\n",
    "df_2015 = df.loc[df['year'].isin([2015])]\n",
    "df_2014 = df.loc[df['year'].isin([2014])]"
   ]
  },
  {
   "cell_type": "code",
   "execution_count": 26,
   "id": "d40e43ae",
   "metadata": {},
   "outputs": [
    {
     "data": {
      "text/html": [
       "<div>\n",
       "<style scoped>\n",
       "    .dataframe tbody tr th:only-of-type {\n",
       "        vertical-align: middle;\n",
       "    }\n",
       "\n",
       "    .dataframe tbody tr th {\n",
       "        vertical-align: top;\n",
       "    }\n",
       "\n",
       "    .dataframe thead th {\n",
       "        text-align: right;\n",
       "    }\n",
       "</style>\n",
       "<table border=\"1\" class=\"dataframe\">\n",
       "  <thead>\n",
       "    <tr style=\"text-align: right;\">\n",
       "      <th></th>\n",
       "      <th>month</th>\n",
       "      <th>year</th>\n",
       "    </tr>\n",
       "  </thead>\n",
       "  <tbody>\n",
       "    <tr>\n",
       "      <th>count</th>\n",
       "      <td>242.000000</td>\n",
       "      <td>242.000000</td>\n",
       "    </tr>\n",
       "    <tr>\n",
       "      <th>mean</th>\n",
       "      <td>6.363636</td>\n",
       "      <td>2016.863636</td>\n",
       "    </tr>\n",
       "    <tr>\n",
       "      <th>std</th>\n",
       "      <td>3.449698</td>\n",
       "      <td>1.435328</td>\n",
       "    </tr>\n",
       "    <tr>\n",
       "      <th>min</th>\n",
       "      <td>1.000000</td>\n",
       "      <td>2014.000000</td>\n",
       "    </tr>\n",
       "    <tr>\n",
       "      <th>25%</th>\n",
       "      <td>3.000000</td>\n",
       "      <td>2016.000000</td>\n",
       "    </tr>\n",
       "    <tr>\n",
       "      <th>50%</th>\n",
       "      <td>6.000000</td>\n",
       "      <td>2017.000000</td>\n",
       "    </tr>\n",
       "    <tr>\n",
       "      <th>75%</th>\n",
       "      <td>9.000000</td>\n",
       "      <td>2018.000000</td>\n",
       "    </tr>\n",
       "    <tr>\n",
       "      <th>max</th>\n",
       "      <td>12.000000</td>\n",
       "      <td>2019.000000</td>\n",
       "    </tr>\n",
       "  </tbody>\n",
       "</table>\n",
       "</div>"
      ],
      "text/plain": [
       "            month         year\n",
       "count  242.000000   242.000000\n",
       "mean     6.363636  2016.863636\n",
       "std      3.449698     1.435328\n",
       "min      1.000000  2014.000000\n",
       "25%      3.000000  2016.000000\n",
       "50%      6.000000  2017.000000\n",
       "75%      9.000000  2018.000000\n",
       "max     12.000000  2019.000000"
      ]
     },
     "execution_count": 26,
     "metadata": {},
     "output_type": "execute_result"
    }
   ],
   "source": [
    "df.describe()"
   ]
  },
  {
   "cell_type": "code",
   "execution_count": 27,
   "id": "fd030df5",
   "metadata": {},
   "outputs": [],
   "source": [
    "x = df[\"Cows R3 (Ire)\"]\n",
    "y = df[\"Cows R3 (GB)\"]\n",
    "z = df[\"Cows R3 (NI)\"]"
   ]
  },
  {
   "cell_type": "code",
   "execution_count": 28,
   "id": "5d34d70c",
   "metadata": {},
   "outputs": [
    {
     "name": "stdout",
     "output_type": "stream",
     "text": [
      "331.4880578512395\n"
     ]
    }
   ],
   "source": [
    "mean_cows_r3_Ire= x.mean()\n",
    "print(mean_cows_r3_Ire)"
   ]
  },
  {
   "cell_type": "code",
   "execution_count": 29,
   "id": "c45c9cdf",
   "metadata": {},
   "outputs": [
    {
     "name": "stdout",
     "output_type": "stream",
     "text": [
      "23.447887799767773\n"
     ]
    }
   ],
   "source": [
    "sd = x.std()\n",
    "print(sd)"
   ]
  },
  {
   "cell_type": "code",
   "execution_count": 30,
   "id": "5ccc4185",
   "metadata": {},
   "outputs": [
    {
     "data": {
      "text/plain": [
       "Ttest_1sampResult(statistic=7.6216775229458245, pvalue=5.729779708268559e-13)"
      ]
     },
     "execution_count": 30,
     "metadata": {},
     "output_type": "execute_result"
    }
   ],
   "source": [
    "#H0 : u = 320\n",
    "#H1 : u =! 320\n",
    "\n",
    "stats.ttest_1samp(x,320)"
   ]
  },
  {
   "cell_type": "code",
   "execution_count": 31,
   "id": "e71e8b78",
   "metadata": {},
   "outputs": [],
   "source": [
    "#We reject H0 ---> We accept H1, so there is enough evidence to say that the average price is 320 c/kg."
   ]
  },
  {
   "cell_type": "code",
   "execution_count": 32,
   "id": "216b4cda",
   "metadata": {},
   "outputs": [
    {
     "name": "stdout",
     "output_type": "stream",
     "text": [
      "329.53439256198345\n"
     ]
    }
   ],
   "source": [
    "mean_cows_r3_GB= y.mean()\n",
    "print(mean_cows_r3_GB)"
   ]
  },
  {
   "cell_type": "code",
   "execution_count": 33,
   "id": "4fe70a9d",
   "metadata": {},
   "outputs": [
    {
     "name": "stdout",
     "output_type": "stream",
     "text": [
      "27.091939386404675\n"
     ]
    }
   ],
   "source": [
    "sd2 = y.std()\n",
    "print(sd2)"
   ]
  },
  {
   "cell_type": "code",
   "execution_count": 34,
   "id": "c97ed0c5",
   "metadata": {},
   "outputs": [
    {
     "name": "stdout",
     "output_type": "stream",
     "text": [
      "331.0608305785126\n"
     ]
    }
   ],
   "source": [
    "mean_cows_r3_NI= z.mean()\n",
    "print(mean_cows_r3_NI)"
   ]
  },
  {
   "cell_type": "code",
   "execution_count": 35,
   "id": "a4a25bc9",
   "metadata": {},
   "outputs": [
    {
     "name": "stdout",
     "output_type": "stream",
     "text": [
      "25.15931731917676\n"
     ]
    }
   ],
   "source": [
    "sd3 = z.std()\n",
    "print(sd3)"
   ]
  },
  {
   "cell_type": "code",
   "execution_count": 36,
   "id": "57687ef7",
   "metadata": {},
   "outputs": [
    {
     "name": "stdout",
     "output_type": "stream",
     "text": [
      "301.3577499999999\n"
     ]
    }
   ],
   "source": [
    "mean_cows_r3_Ire= df_2019[\"Cows R3 (Ire)\"].mean()\n",
    "print(mean_cows_r3_Ire)"
   ]
  },
  {
   "cell_type": "code",
   "execution_count": 46,
   "id": "4e190961",
   "metadata": {},
   "outputs": [
    {
     "name": "stdout",
     "output_type": "stream",
     "text": [
      "11.214842154541541\n"
     ]
    }
   ],
   "source": [
    "sd1_2019 = df_2019[\"Cows R3 (Ire)\"].std()\n",
    "print(sd1_2019)"
   ]
  },
  {
   "cell_type": "code",
   "execution_count": 39,
   "id": "2a9ee9c8",
   "metadata": {},
   "outputs": [
    {
     "name": "stdout",
     "output_type": "stream",
     "text": [
      "307.81600000000003\n"
     ]
    }
   ],
   "source": [
    "mean_cows_r3_GB= df_2019[\"Cows R3 (GB)\"].mean()\n",
    "print(mean_cows_r3_GB)"
   ]
  },
  {
   "cell_type": "code",
   "execution_count": 41,
   "id": "689e31dd",
   "metadata": {},
   "outputs": [
    {
     "name": "stdout",
     "output_type": "stream",
     "text": [
      "14.375473379050684\n"
     ]
    }
   ],
   "source": [
    "sd2_2019 = df_2019[\"Cows R3 (GB)\"].std()\n",
    "print(sd2_2019)"
   ]
  },
  {
   "cell_type": "code",
   "execution_count": 42,
   "id": "48c80faa",
   "metadata": {},
   "outputs": [
    {
     "name": "stdout",
     "output_type": "stream",
     "text": [
      "303.0340000000001\n"
     ]
    }
   ],
   "source": [
    "mean_cows_r3_NI= df_2019[\"Cows R3 (NI)\"].mean()\n",
    "print(mean_cows_r3_NI)"
   ]
  },
  {
   "cell_type": "code",
   "execution_count": 43,
   "id": "08c9f0ea",
   "metadata": {},
   "outputs": [
    {
     "name": "stdout",
     "output_type": "stream",
     "text": [
      "8.428440498144916\n"
     ]
    }
   ],
   "source": [
    "sd3_2019 = df_2019[\"Cows R3 (NI)\"].std()\n",
    "print(sd3_2019)"
   ]
  },
  {
   "cell_type": "code",
   "execution_count": 44,
   "id": "de5ded1c",
   "metadata": {},
   "outputs": [
    {
     "name": "stdout",
     "output_type": "stream",
     "text": [
      "356.54117647058825\n"
     ]
    }
   ],
   "source": [
    "mean_cows_r3_Ire= df_2015[\"Cows R3 (Ire)\"].mean()\n",
    "print(mean_cows_r3_Ire)"
   ]
  },
  {
   "cell_type": "code",
   "execution_count": 47,
   "id": "c5235789",
   "metadata": {},
   "outputs": [
    {
     "name": "stdout",
     "output_type": "stream",
     "text": [
      "18.50991276554904\n"
     ]
    }
   ],
   "source": [
    "sd1_2015 = df_2015[\"Cows R3 (Ire)\"].std()\n",
    "print(sd1_2015)"
   ]
  },
  {
   "cell_type": "code",
   "execution_count": 48,
   "id": "5ae4ac47",
   "metadata": {},
   "outputs": [
    {
     "name": "stdout",
     "output_type": "stream",
     "text": [
      "366.3443137254902\n"
     ]
    }
   ],
   "source": [
    "mean_cows_r3_GB= df_2015[\"Cows R3 (GB)\"].mean()\n",
    "print(mean_cows_r3_GB)"
   ]
  },
  {
   "cell_type": "code",
   "execution_count": 49,
   "id": "73f6b522",
   "metadata": {},
   "outputs": [
    {
     "name": "stdout",
     "output_type": "stream",
     "text": [
      "20.92610420072517\n"
     ]
    }
   ],
   "source": [
    "sd2_2015 = df_2015[\"Cows R3 (GB)\"].std()\n",
    "print(sd2_2015)"
   ]
  },
  {
   "cell_type": "code",
   "execution_count": 50,
   "id": "dee60f06",
   "metadata": {},
   "outputs": [
    {
     "name": "stdout",
     "output_type": "stream",
     "text": [
      "364.4800000000001\n"
     ]
    }
   ],
   "source": [
    "mean_cows_r3_NI= df_2015[\"Cows R3 (NI)\"].mean()\n",
    "print(mean_cows_r3_NI)"
   ]
  },
  {
   "cell_type": "code",
   "execution_count": 51,
   "id": "c5056650",
   "metadata": {},
   "outputs": [
    {
     "name": "stdout",
     "output_type": "stream",
     "text": [
      "17.310083997485393\n"
     ]
    }
   ],
   "source": [
    "sd3_2015 = df_2015[\"Cows R3 (NI)\"].std()\n",
    "print(sd3_2015)"
   ]
  },
  {
   "cell_type": "code",
   "execution_count": null,
   "id": "4db5b769",
   "metadata": {},
   "outputs": [],
   "source": []
  }
 ],
 "metadata": {
  "kernelspec": {
   "display_name": "Python 3",
   "language": "python",
   "name": "python3"
  },
  "language_info": {
   "codemirror_mode": {
    "name": "ipython",
    "version": 3
   },
   "file_extension": ".py",
   "mimetype": "text/x-python",
   "name": "python",
   "nbconvert_exporter": "python",
   "pygments_lexer": "ipython3",
   "version": "3.8.8"
  }
 },
 "nbformat": 4,
 "nbformat_minor": 5
}
